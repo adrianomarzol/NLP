{
  "nbformat": 4,
  "nbformat_minor": 0,
  "metadata": {
    "colab": {
      "provenance": []
    },
    "kernelspec": {
      "name": "python3",
      "display_name": "Python 3"
    },
    "language_info": {
      "name": "python"
    }
  },
  "cells": [
    {
      "cell_type": "code",
      "execution_count": null,
      "metadata": {
        "id": "T0C524mrz4Gr"
      },
      "outputs": [],
      "source": [
        "!apt-get update\n",
        "!pip install selenium webdriver-manager flask"
      ]
    },
    {
      "cell_type": "code",
      "source": [
        "# Descargar ChromeDriver\n",
        "!wget https://chromedriver.storage.googleapis.com/114.0.5735.90/chromedriver_linux64.zip\n",
        "\n",
        "# Descomprimir ChromeDriver\n",
        "!unzip chromedriver_linux64.zip"
      ],
      "metadata": {
        "id": "4aAFbXsqK5vI"
      },
      "execution_count": null,
      "outputs": []
    },
    {
      "cell_type": "code",
      "source": [
        "from selenium import webdriver\n",
        "from selenium.webdriver.chrome.service import Service\n",
        "from selenium.webdriver.chrome.options import Options\n",
        "from selenium.webdriver.common.by import By\n",
        "from selenium.webdriver.support.ui import WebDriverWait\n",
        "from selenium.webdriver.support import expected_conditions as EC\n",
        "from selenium.webdriver.support.ui import WebDriverWait\n",
        "\n",
        "import time\n",
        "\n",
        "# Configuración más detallada de las opciones de Chrome\n",
        "chrome_options = Options()\n",
        "chrome_options.add_argument('--headless')\n",
        "chrome_options.add_argument('--no-sandbox')\n",
        "chrome_options.add_argument('--disable-dev-shm-usage')\n",
        "chrome_options.add_argument('--disable-gpu')\n",
        "\n",
        "# Configurar la ruta del driver\n",
        "service = Service('/usr/bin/chromedriver')"
      ],
      "metadata": {
        "id": "lQs9SBGBLCBv"
      },
      "execution_count": 45,
      "outputs": []
    },
    {
      "cell_type": "markdown",
      "source": [
        "##Loguearse en la página:"
      ],
      "metadata": {
        "id": "gSRJaH2XhFaT"
      }
    },
    {
      "cell_type": "code",
      "source": [
        "from selenium import webdriver\n",
        "from selenium.webdriver.common.by import By\n",
        "from selenium.webdriver.common.keys import Keys\n",
        "import time\n",
        "import requests\n",
        "driver = webdriver.Chrome(options=chrome_options)\n",
        "\n",
        "# Abrir la página web\n",
        "driver.get('https://boardgamegeek.com/boardgame/266524/parks/credits')\n",
        "\n",
        "# Esperar que la página cargue (ajustar si es necesario)\n",
        "time.sleep(2)\n",
        "\n",
        "# Suponiendo que el botón para abrir el formulario de login tiene el ID 'login_button'\n",
        "login_button = driver.find_element(By.CSS_SELECTOR, 'button[login-required]')\n",
        "login_button.click()\n",
        "\n",
        "# Esperar a que la ventana emergente cargue\n",
        "time.sleep(2)\n",
        "\n",
        "# Rellenar el formulario de inicio de sesión\n",
        "# Encontrar los campos de usuario y contraseña (ajustar según la página)\n",
        "username_field = driver.find_element(By.ID, 'inputUsername')\n",
        "password_field = driver.find_element(By.ID, 'inputPassword')\n",
        "\n",
        "username_field.send_keys('nlp2025')\n",
        "password_field.send_keys('nlp2025')\n",
        "\n",
        "# Enviar el formulario (presionar Enter o el botón de login)\n",
        "password_field.send_keys(Keys.RETURN)\n",
        "\n",
        "# O también podrías encontrar el botón de login y hacer click:\n",
        "# login_submit_button = driver.find_element(By.ID, 'submit_login')\n",
        "# login_submit_button.click()\n",
        "\n",
        "# Esperar unos segundos para que la página cargue después del login\n",
        "time.sleep(5)"
      ],
      "metadata": {
        "id": "OTH1UehPLQFi"
      },
      "execution_count": 46,
      "outputs": []
    },
    {
      "cell_type": "markdown",
      "source": [
        "##Extraccion de overview:\n"
      ],
      "metadata": {
        "id": "3GzUIkEIfs7w"
      }
    },
    {
      "cell_type": "code",
      "source": [
        "import pandas as pd"
      ],
      "metadata": {
        "id": "iDYVB-9juKaz"
      },
      "execution_count": 47,
      "outputs": []
    },
    {
      "cell_type": "code",
      "source": [
        "driver.get('https://boardgamegeek.com/boardgame/266524/parks')\n",
        "\n",
        "#Extraccion de la descripcion del juego.\n",
        "body_descripcion = driver.find_element(By.CLASS_NAME, 'expandable-body')\n",
        "parrafos = body_descripcion.find_elements(By.TAG_NAME, 'p')\n",
        "descripcion = \"\\n\".join([parrafo.text for parrafo in parrafos]).replace('!', 'PARKS!')"
      ],
      "metadata": {
        "id": "KQh8Yu4thd5X"
      },
      "execution_count": 48,
      "outputs": []
    },
    {
      "cell_type": "code",
      "source": [
        "descripcion"
      ],
      "metadata": {
        "id": "73YbZ9O75Ovk"
      },
      "execution_count": null,
      "outputs": []
    },
    {
      "cell_type": "code",
      "source": [
        "driver.get('https://boardgamegeek.com/boardgame/266524/parks/credits')\n",
        "\n",
        "#Extraccion de datos del juego.\n",
        "datos_juego = []\n",
        "\n",
        "items = driver.find_elements(By.CLASS_NAME, 'outline-item')\n",
        "for item in items:\n",
        "    datos_juego.append(item.text)\n",
        "\n",
        "game_header = driver.find_elements(By.CLASS_NAME, 'gameplay-item-primary')\n",
        "for header in game_header:\n",
        "    datos_juego.append(header.text)\n",
        "\n",
        "for i in range(0,len(datos_juego)):\n",
        "    datos_juego[i] = datos_juego[i].replace('\\n', ' ')\n",
        "    datos_juego[i] = datos_juego[i].replace('Complexity Rating', '')\n",
        "\n",
        "datos = pd.DataFrame([{\n",
        "    'Nombre Primario': datos_juego[0].replace(\"Primary Name \", \"\"),\n",
        "    'Nombres Alternativos': datos_juego[1].replace(\"Alternate Names \", \"\"),\n",
        "    'Lanzamiento': datos_juego[2].replace(\"Year Released \", \"\"),\n",
        "    'Diseñador': datos_juego[3].replace(\"Designer \", \"\"),\n",
        "    'Publicado por': datos_juego[5].replace(\"Publisher \", \"\"),\n",
        "    'Editor': datos_juego[10].replace(\"Editor \", \"\"),\n",
        "    'Insert Designers': datos_juego[12].replace(\"Insert Designers\",\"\"),\n",
        "    'Categorias': datos_juego[13].replace(\"Categories \",\"\"),\n",
        "    'Mecanismos': datos_juego[14].replace(\"Mechanics \",\"\"),\n",
        "    'Familia': datos_juego[15].replace(\"Family \",\"\"),\n",
        "    'Jugadores': datos_juego[16].replace(\" Players\",\"\"),\n",
        "    'Tiempo de juego': datos_juego[17],\n",
        "    'Edad': datos_juego[18].replace(\"Age: \",\"\"),\n",
        "    'Complejidad': datos_juego[19].replace(\"Weight: \",\"\")\n",
        "}])"
      ],
      "metadata": {
        "id": "O02Oci0Dr5kr"
      },
      "execution_count": 49,
      "outputs": []
    },
    {
      "cell_type": "code",
      "source": [
        "datos"
      ],
      "metadata": {
        "id": "nrEZyB9SzFfm"
      },
      "execution_count": null,
      "outputs": []
    },
    {
      "cell_type": "markdown",
      "source": [
        "#Extracción de foros:"
      ],
      "metadata": {
        "id": "o4hf81Abhakt"
      }
    },
    {
      "cell_type": "markdown",
      "source": [
        "##Variants"
      ],
      "metadata": {
        "id": "XADE5kX0pZrJ"
      }
    },
    {
      "cell_type": "code",
      "source": [
        "#URL de los foros de Variants.\n",
        "url_foro = \"https://boardgamegeek.com/boardgame/266524/parks/forums/69\"\n",
        "driver.get(url_foro)\n",
        "time.sleep(3)\n",
        "\n",
        "hilos = driver.find_elements(By.CSS_SELECTOR, \"a[href^='/thread/']\")  # todos los <a> que empiezan con /thread/\n",
        "\n",
        "links_hilos = []\n",
        "for hilo in hilos:\n",
        "    link = hilo.get_attribute('href')\n",
        "    if link:  # asegurar que no sea None\n",
        "        link_completo = \"https://boardgamegeek.com\" + link if link.startswith(\"/thread/\") else link\n",
        "        links_hilos.append(link_completo)\n",
        "\n",
        "#Eliminar los links repetidos\n",
        "links_unicos = list(set(links_hilos))"
      ],
      "metadata": {
        "id": "tIiktWishdw2"
      },
      "execution_count": 22,
      "outputs": []
    },
    {
      "cell_type": "code",
      "source": [
        "textos_foros_variants = []\n",
        "\n",
        "for link in links_unicos:\n",
        "    driver.get(link)\n",
        "    time.sleep(2)\n",
        "\n",
        "    posts = driver.find_elements(By.TAG_NAME, \"gg-markup-safe-html\")\n",
        "\n",
        "    for post in posts:\n",
        "        texto = post.text.strip()\n",
        "        if texto:\n",
        "            textos_foros_variants.append(texto)"
      ],
      "metadata": {
        "id": "imKLyaMvo99F"
      },
      "execution_count": 23,
      "outputs": []
    },
    {
      "cell_type": "code",
      "source": [
        "textos_foros_variants"
      ],
      "metadata": {
        "id": "lEm-1TA-sIKX"
      },
      "execution_count": null,
      "outputs": []
    },
    {
      "cell_type": "code",
      "source": [
        "with open('texto_foros_variants.txt', 'w', encoding='utf-8') as archivo:\n",
        "    for linea in textos_foros_variants:\n",
        "        archivo.write(linea + '\\n')  # Escribir cada string en una nueva línea"
      ],
      "metadata": {
        "id": "xfMjiuCQsIBr"
      },
      "execution_count": 25,
      "outputs": []
    },
    {
      "cell_type": "markdown",
      "source": [
        "##Strategy"
      ],
      "metadata": {
        "id": "VkItrPSPpcY3"
      }
    },
    {
      "cell_type": "code",
      "source": [
        "#URL de los foros de Strategy.\n",
        "url_foro = \"https://boardgamegeek.com/boardgame/266524/parks/forums/67\"\n",
        "driver.get(url_foro)\n",
        "time.sleep(3)\n",
        "\n",
        "hilos = driver.find_elements(By.CSS_SELECTOR, \"a[href^='/thread/']\")  # todos los <a> que empiezan con /thread/\n",
        "\n",
        "links_hilos = []\n",
        "for hilo in hilos:\n",
        "    link = hilo.get_attribute('href')\n",
        "    if link:  # asegurar que no sea None\n",
        "        link_completo = \"https://boardgamegeek.com\" + link if link.startswith(\"/thread/\") else link\n",
        "        links_hilos.append(link_completo)\n",
        "\n",
        "#Eliminar los links repetidos\n",
        "links_unicos = list(set(links_hilos))"
      ],
      "metadata": {
        "id": "yC_hpvgXpi5A"
      },
      "execution_count": 26,
      "outputs": []
    },
    {
      "cell_type": "code",
      "source": [
        "textos_foros_strategy = []\n",
        "\n",
        "for link in links_unicos:\n",
        "    driver.get(link)\n",
        "    time.sleep(2)\n",
        "\n",
        "    posts = driver.find_elements(By.TAG_NAME, \"gg-markup-safe-html\")\n",
        "\n",
        "    for post in posts:\n",
        "        texto = post.text.strip()\n",
        "        if texto:\n",
        "            textos_foros_strategy.append(texto)"
      ],
      "metadata": {
        "id": "zNzfn1LKprpt"
      },
      "execution_count": 27,
      "outputs": []
    },
    {
      "cell_type": "code",
      "source": [
        "textos_foros_strategy"
      ],
      "metadata": {
        "id": "Rwt9qsXwr_dJ"
      },
      "execution_count": null,
      "outputs": []
    },
    {
      "cell_type": "code",
      "source": [
        "with open('texto_foros_strategy.txt', 'w', encoding='utf-8') as archivo:\n",
        "    for linea in textos_foros_strategy:\n",
        "        archivo.write(linea + '\\n')  # Escribir cada string en una nueva línea"
      ],
      "metadata": {
        "id": "xXlH49AEr_Rh"
      },
      "execution_count": 29,
      "outputs": []
    },
    {
      "cell_type": "markdown",
      "source": [
        "##News"
      ],
      "metadata": {
        "id": "Pv5kHj27rCO0"
      }
    },
    {
      "cell_type": "code",
      "source": [
        "#URL de los foros de News.\n",
        "url_foro = \"https://boardgamegeek.com/boardgame/266524/parks/forums/68\"\n",
        "driver.get(url_foro)\n",
        "time.sleep(3)\n",
        "\n",
        "hilos = driver.find_elements(By.CSS_SELECTOR, \"a[href^='/thread/']\")  # todos los <a> que empiezan con /thread/\n",
        "\n",
        "links_hilos = []\n",
        "for hilo in hilos:\n",
        "    link = hilo.get_attribute('href')\n",
        "    if link:  # asegurar que no sea None\n",
        "        link_completo = \"https://boardgamegeek.com\" + link if link.startswith(\"/thread/\") else link\n",
        "        links_hilos.append(link_completo)\n",
        "\n",
        "#Eliminar los links repetidos\n",
        "links_unicos = list(set(links_hilos))"
      ],
      "metadata": {
        "id": "aZJGSyioqpZK"
      },
      "execution_count": 30,
      "outputs": []
    },
    {
      "cell_type": "code",
      "source": [
        "textos_foros_news = []\n",
        "\n",
        "for link in links_unicos:\n",
        "    driver.get(link)\n",
        "    time.sleep(2)\n",
        "\n",
        "    posts = driver.find_elements(By.TAG_NAME, \"gg-markup-safe-html\")\n",
        "\n",
        "    for post in posts:\n",
        "        texto = post.text.strip()\n",
        "        if texto:\n",
        "            textos_foros_news.append(texto)"
      ],
      "metadata": {
        "id": "ksdNVQ4yq9NZ"
      },
      "execution_count": 31,
      "outputs": []
    },
    {
      "cell_type": "code",
      "source": [
        "textos_foros_news = list(set(textos_foros_news))"
      ],
      "metadata": {
        "id": "Uow-1Ms5rvv8"
      },
      "execution_count": 42,
      "outputs": []
    },
    {
      "cell_type": "code",
      "source": [
        "textos_foros_news"
      ],
      "metadata": {
        "id": "JHxpP-1Owu-l"
      },
      "execution_count": null,
      "outputs": []
    },
    {
      "cell_type": "code",
      "source": [
        "with open('texto_foros_news.txt', 'w', encoding='utf-8') as archivo:\n",
        "    for linea in textos_foros_news:\n",
        "        archivo.write(linea + '\\n')  # Escribir cada string en una nueva línea"
      ],
      "metadata": {
        "id": "UgDkmOo7ryNa"
      },
      "execution_count": 32,
      "outputs": []
    }
  ]
}