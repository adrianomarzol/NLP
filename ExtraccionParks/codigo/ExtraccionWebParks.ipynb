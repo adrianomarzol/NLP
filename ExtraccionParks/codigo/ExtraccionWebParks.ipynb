{
  "cells": [
    {
      "cell_type": "code",
      "execution_count": null,
      "metadata": {
        "id": "T0C524mrz4Gr"
      },
      "outputs": [],
      "source": [
        "!apt-get update\n",
        "!pip install selenium webdriver-manager flask"
      ]
    },
    {
      "cell_type": "code",
      "execution_count": 4,
      "metadata": {
        "id": "4aAFbXsqK5vI"
      },
      "outputs": [
        {
          "name": "stderr",
          "output_type": "stream",
          "text": [
            "\"wget\" no se reconoce como un comando interno o externo,\n",
            "programa o archivo por lotes ejecutable.\n",
            "\"unzip\" no se reconoce como un comando interno o externo,\n",
            "programa o archivo por lotes ejecutable.\n"
          ]
        }
      ],
      "source": [
        "# Descargar ChromeDriver\n",
        "!wget https://chromedriver.storage.googleapis.com/114.0.5735.90/chromedriver_linux64.zip\n",
        "\n",
        "# Descomprimir ChromeDriver\n",
        "!unzip chromedriver_linux64.zip"
      ]
    },
    {
      "cell_type": "code",
      "execution_count": 8,
      "metadata": {
        "id": "lQs9SBGBLCBv"
      },
      "outputs": [],
      "source": [
        "from selenium import webdriver\n",
        "from selenium.webdriver.chrome.service import Service\n",
        "from selenium.webdriver.chrome.options import Options\n",
        "from selenium.webdriver.common.by import By\n",
        "from selenium.webdriver.support.ui import WebDriverWait\n",
        "from selenium.webdriver.support import expected_conditions as EC\n",
        "from selenium.webdriver.support.ui import WebDriverWait\n",
        "\n",
        "import time\n",
        "\n",
        "# Configuración más detallada de las opciones de Chrome\n",
        "chrome_options = Options()\n",
        "chrome_options.add_argument('--headless')\n",
        "chrome_options.add_argument('--no-sandbox')\n",
        "chrome_options.add_argument('--disable-dev-shm-usage')\n",
        "chrome_options.add_argument('--disable-gpu')\n",
        "\n",
        "# Configurar la ruta del driver\n",
        "service = Service('/usr/bin/chromedriver')"
      ]
    },
    {
      "cell_type": "markdown",
      "metadata": {
        "id": "gSRJaH2XhFaT"
      },
      "source": [
        "### Loguearse en la página:"
      ]
    },
    {
      "cell_type": "code",
      "execution_count": 13,
      "metadata": {},
      "outputs": [],
      "source": [
        "from selenium import webdriver\n",
        "from selenium.webdriver.common.by import By\n",
        "from selenium.webdriver.chrome.service import Service\n",
        "from selenium.webdriver.chrome.options import Options\n",
        "from selenium.webdriver.support.ui import WebDriverWait\n",
        "from selenium.webdriver.support import expected_conditions as EC\n",
        "from webdriver_manager.chrome import ChromeDriverManager\n",
        "import time\n",
        "\n",
        "# --- OPCIONES DEL NAVEGADOR ---\n",
        "options = Options()\n",
        "# Descomenta esta línea si querés que se ejecute en segundo plano (sin abrir navegador)\n",
        "options.add_argument(\"--headless\")\n",
        "options.add_argument(\"--disable-gpu\")\n",
        "options.add_argument(\"--start-maximized\")  # Abrir en ventana maximizada\n",
        "options.add_argument(\"--window-size=1920,1080\")  # Tamaño fijo opcional\n",
        "\n",
        "# --- INICIALIZAR CHROME ---\n",
        "driver = webdriver.Chrome(service=Service(ChromeDriverManager().install()), options=options)\n",
        "\n",
        "# --- ABRIR UNA PÁGINA ---\n",
        "driver.get(\"https://boardgamegeek.com/boardgame/266524/parks/credits\")\n",
        "\n",
        "# Suponiendo que el botón para abrir el formulario de login tiene el ID 'login_button'\n",
        "wait = WebDriverWait(driver, 10)\n",
        "login_button = driver.find_element(By.CSS_SELECTOR, 'button[login-required]')\n",
        "login_button.click()\n",
        "\n",
        "# Rellenar el formulario de inicio de sesión\n",
        "# Encontrar los campos de usuario y contraseña (ajustar según la página)\n",
        "username_field = driver.find_element(By.ID, 'inputUsername')\n",
        "password_field = driver.find_element(By.ID, 'inputPassword')\n",
        "\n",
        "username_field.send_keys('nlp2025')\n",
        "password_field.send_keys('nlp2025')\n",
        "\n",
        "# Enviar el formulario (presionar Enter o el botón de login)\n",
        "password_field.send_keys(Keys.RETURN)\n",
        "\n",
        "# O también podrías encontrar el botón de login y hacer click:\n",
        "# login_submit_button = driver.find_element(By.ID, 'submit_login')\n",
        "# login_submit_button.click()\n",
        "\n",
        "# Esperar unos segundos para que la página cargue después del login\n",
        "time.sleep(5)"
      ]
    },
    {
      "cell_type": "code",
      "execution_count": null,
      "metadata": {
        "id": "OTH1UehPLQFi"
      },
      "outputs": [],
      "source": [
        "from selenium.webdriver.support.ui import WebDriverWait\n",
        "from selenium.webdriver.support import expected_conditions as EC\n",
        "\n",
        "from selenium import webdriver\n",
        "from selenium.webdriver.common.by import By\n",
        "from selenium.webdriver.common.keys import Keys\n",
        "import time\n",
        "import requests\n",
        "driver = webdriver.Chrome(options=chrome_options)\n",
        "\n",
        "# Abrir la página web\n",
        "driver.get('https://boardgamegeek.com/boardgame/266524/parks/credits')\n",
        "\n",
        "# Esperar que la página cargue (ajustar si es necesario)\n",
        "time.sleep(2)\n",
        "\n",
        "# Suponiendo que el botón para abrir el formulario de login tiene el ID 'login_button'\n",
        "wait = WebDriverWait(driver, 10)\n",
        "login_button = driver.find_element(By.CSS_SELECTOR, 'button[login-required]')\n",
        "login_button.click()\n",
        "\n",
        "# Esperar a que la ventana emergente cargue\n",
        "time.sleep(2)\n",
        "\n",
        "# Rellenar el formulario de inicio de sesión\n",
        "# Encontrar los campos de usuario y contraseña (ajustar según la página)\n",
        "username_field = driver.find_element(By.ID, 'inputUsername')\n",
        "password_field = driver.find_element(By.ID, 'inputPassword')\n",
        "\n",
        "username_field.send_keys('nlp2025')\n",
        "password_field.send_keys('nlp2025')\n",
        "\n",
        "# Enviar el formulario (presionar Enter o el botón de login)\n",
        "password_field.send_keys(Keys.RETURN)\n",
        "\n",
        "# O también podrías encontrar el botón de login y hacer click:\n",
        "# login_submit_button = driver.find_element(By.ID, 'submit_login')\n",
        "# login_submit_button.click()\n",
        "\n",
        "# Esperar unos segundos para que la página cargue después del login\n",
        "time.sleep(5)"
      ]
    },
    {
      "cell_type": "code",
      "execution_count": 44,
      "metadata": {},
      "outputs": [],
      "source": [
        "def contarCaracteres(texto):\n",
        "    texto_limpio = texto.replace(\" \", \"\").replace(\"\\n\", \"\").replace(\"\\t\", \"\")\n",
        "\n",
        "    return len(texto_limpio)\n",
        "\n",
        "caracteres = 0"
      ]
    },
    {
      "cell_type": "markdown",
      "metadata": {
        "id": "3GzUIkEIfs7w"
      },
      "source": [
        "## Extraccion de overview:"
      ]
    },
    {
      "cell_type": "code",
      "execution_count": 14,
      "metadata": {
        "id": "iDYVB-9juKaz"
      },
      "outputs": [],
      "source": [
        "import pandas as pd"
      ]
    },
    {
      "cell_type": "code",
      "execution_count": 17,
      "metadata": {},
      "outputs": [],
      "source": [
        "def stringToTxt(string, nombre):\n",
        "    archivo = open(nombre, \"w\")\n",
        "    archivo.write(string)\n",
        "    archivo.close()"
      ]
    },
    {
      "cell_type": "code",
      "execution_count": 15,
      "metadata": {
        "id": "KQh8Yu4thd5X"
      },
      "outputs": [],
      "source": [
        "driver.get('https://boardgamegeek.com/boardgame/266524/parks')\n",
        "\n",
        "#Extraccion de la descripcion del juego.\n",
        "body_descripcion = driver.find_element(By.CLASS_NAME, 'expandable-body')\n",
        "parrafos = body_descripcion.find_elements(By.TAG_NAME, 'p')\n",
        "descripcion = \"\\n\".join([parrafo.text for parrafo in parrafos]).replace('!', 'PARKS!')"
      ]
    },
    {
      "cell_type": "code",
      "execution_count": 18,
      "metadata": {
        "id": "73YbZ9O75Ovk"
      },
      "outputs": [],
      "source": [
        "stringToTxt(descripcion, \"../datos/informacion/descripcion_juego.txt\")"
      ]
    },
    {
      "cell_type": "code",
      "execution_count": 45,
      "metadata": {},
      "outputs": [],
      "source": [
        "caracteres += contarCaracteres(descripcion)"
      ]
    },
    {
      "cell_type": "code",
      "execution_count": 46,
      "metadata": {},
      "outputs": [
        {
          "name": "stdout",
          "output_type": "stream",
          "text": [
            "Cantidad de caracteres: 985\n"
          ]
        }
      ],
      "source": [
        "print(f\"Cantidad de caracteres: {caracteres}\")"
      ]
    },
    {
      "cell_type": "code",
      "execution_count": 19,
      "metadata": {
        "id": "O02Oci0Dr5kr"
      },
      "outputs": [],
      "source": [
        "driver.get('https://boardgamegeek.com/boardgame/266524/parks/credits')\n",
        "\n",
        "#Extraccion de datos del juego.\n",
        "datos_juego = []\n",
        "\n",
        "items = driver.find_elements(By.CLASS_NAME, 'outline-item')\n",
        "for item in items:\n",
        "    datos_juego.append(item.text)\n",
        "\n",
        "game_header = driver.find_elements(By.CLASS_NAME, 'gameplay-item-primary')\n",
        "for header in game_header:\n",
        "    datos_juego.append(header.text)\n",
        "\n",
        "for i in range(0,len(datos_juego)):\n",
        "    datos_juego[i] = datos_juego[i].replace('\\n', ' ')\n",
        "    datos_juego[i] = datos_juego[i].replace('Complexity Rating', '')\n",
        "\n",
        "datos = pd.DataFrame([{\n",
        "    'Nombre Primario': datos_juego[0].replace(\"Primary Name \", \"\"),\n",
        "    'Nombres Alternativos': datos_juego[1].replace(\"Alternate Names \", \"\"),\n",
        "    'Lanzamiento': datos_juego[2].replace(\"Year Released \", \"\"),\n",
        "    'Diseñador': datos_juego[3].replace(\"Designer \", \"\"),\n",
        "    'Publicado por': datos_juego[5].replace(\"Publisher \", \"\"),\n",
        "    'Editor': datos_juego[10].replace(\"Editor \", \"\"),\n",
        "    'Insert Designers': datos_juego[12].replace(\"Insert Designers\",\"\"),\n",
        "    'Categorias': datos_juego[13].replace(\"Categories \",\"\"),\n",
        "    'Mecanismos': datos_juego[14].replace(\"Mechanics \",\"\"),\n",
        "    'Familia': datos_juego[15].replace(\"Family \",\"\"),\n",
        "    'Jugadores': datos_juego[16].replace(\" Players\",\"\"),\n",
        "    'Tiempo de juego': datos_juego[17],\n",
        "    'Edad': datos_juego[18].replace(\"Age: \",\"\"),\n",
        "    'Complejidad': datos_juego[19].replace(\"Weight: \",\"\")\n",
        "}])"
      ]
    },
    {
      "cell_type": "code",
      "execution_count": 22,
      "metadata": {
        "id": "nrEZyB9SzFfm"
      },
      "outputs": [],
      "source": [
        "datos.to_csv('../datos/estadisticas/credits.csv', index=False, encoding='utf-8')"
      ]
    },
    {
      "cell_type": "markdown",
      "metadata": {
        "id": "o4hf81Abhakt"
      },
      "source": [
        "## Extracción de foros:"
      ]
    },
    {
      "cell_type": "markdown",
      "metadata": {
        "id": "XADE5kX0pZrJ"
      },
      "source": [
        "### Variants"
      ]
    },
    {
      "cell_type": "code",
      "execution_count": 23,
      "metadata": {
        "id": "tIiktWishdw2"
      },
      "outputs": [],
      "source": [
        "#URL de los foros de Variants.\n",
        "url_foro = \"https://boardgamegeek.com/boardgame/266524/parks/forums/69\"\n",
        "driver.get(url_foro)\n",
        "time.sleep(3)\n",
        "\n",
        "hilos = driver.find_elements(By.CSS_SELECTOR, \"a[href^='/thread/']\")  # todos los <a> que empiezan con /thread/\n",
        "\n",
        "links_hilos = []\n",
        "for hilo in hilos:\n",
        "    link = hilo.get_attribute('href')\n",
        "    if link:  # asegurar que no sea None\n",
        "        link_completo = \"https://boardgamegeek.com\" + link if link.startswith(\"/thread/\") else link\n",
        "        links_hilos.append(link_completo)\n",
        "\n",
        "#Eliminar los links repetidos\n",
        "links_unicos = list(set(links_hilos))"
      ]
    },
    {
      "cell_type": "code",
      "execution_count": 25,
      "metadata": {
        "id": "imKLyaMvo99F"
      },
      "outputs": [],
      "source": [
        "textos_foros_variants = []\n",
        "\n",
        "for link in links_unicos:\n",
        "    driver.get(link)\n",
        "    time.sleep(2)\n",
        "\n",
        "    posts = driver.find_elements(By.TAG_NAME, \"gg-markup-safe-html\")\n",
        "\n",
        "    for post in posts:\n",
        "        texto = post.text.strip()\n",
        "        if texto:\n",
        "            textos_foros_variants.append(texto)\n",
        "\n",
        "textos_foros_variants = list(set(textos_foros_variants))"
      ]
    },
    {
      "cell_type": "code",
      "execution_count": 26,
      "metadata": {
        "id": "xfMjiuCQsIBr"
      },
      "outputs": [],
      "source": [
        "with open('../datos/informacion/texto_foros_variants.txt', 'w', encoding='utf-8') as archivo:\n",
        "    for linea in textos_foros_variants:\n",
        "        archivo.write(linea + '\\n')  # Escribir cada string en una nueva línea"
      ]
    },
    {
      "cell_type": "code",
      "execution_count": 47,
      "metadata": {},
      "outputs": [],
      "source": [
        "for texto in textos_foros_variants:\n",
        "    caracteres += contarCaracteres(texto)"
      ]
    },
    {
      "cell_type": "code",
      "execution_count": 48,
      "metadata": {},
      "outputs": [
        {
          "name": "stdout",
          "output_type": "stream",
          "text": [
            "Cantidad de caracteres: 139244\n"
          ]
        }
      ],
      "source": [
        "print(f\"Cantidad de caracteres: {caracteres}\")"
      ]
    },
    {
      "cell_type": "markdown",
      "metadata": {
        "id": "VkItrPSPpcY3"
      },
      "source": [
        "### Strategy"
      ]
    },
    {
      "cell_type": "code",
      "execution_count": 27,
      "metadata": {
        "id": "yC_hpvgXpi5A"
      },
      "outputs": [],
      "source": [
        "#URL de los foros de Strategy.\n",
        "url_foro = \"https://boardgamegeek.com/boardgame/266524/parks/forums/67\"\n",
        "driver.get(url_foro)\n",
        "time.sleep(3)\n",
        "\n",
        "hilos = driver.find_elements(By.CSS_SELECTOR, \"a[href^='/thread/']\")  # todos los <a> que empiezan con /thread/\n",
        "\n",
        "links_hilos = []\n",
        "for hilo in hilos:\n",
        "    link = hilo.get_attribute('href')\n",
        "    if link:  # asegurar que no sea None\n",
        "        link_completo = \"https://boardgamegeek.com\" + link if link.startswith(\"/thread/\") else link\n",
        "        links_hilos.append(link_completo)\n",
        "\n",
        "#Eliminar los links repetidos\n",
        "links_unicos = list(set(links_hilos))"
      ]
    },
    {
      "cell_type": "code",
      "execution_count": 28,
      "metadata": {
        "id": "zNzfn1LKprpt"
      },
      "outputs": [],
      "source": [
        "textos_foros_strategy = []\n",
        "\n",
        "for link in links_unicos:\n",
        "    driver.get(link)\n",
        "    time.sleep(2)\n",
        "\n",
        "    posts = driver.find_elements(By.TAG_NAME, \"gg-markup-safe-html\")\n",
        "\n",
        "    for post in posts:\n",
        "        texto = post.text.strip()\n",
        "        if texto:\n",
        "            textos_foros_strategy.append(texto)\n",
        "\n",
        "textos_foros_strategy = list(set(textos_foros_strategy))"
      ]
    },
    {
      "cell_type": "code",
      "execution_count": 29,
      "metadata": {
        "id": "xXlH49AEr_Rh"
      },
      "outputs": [],
      "source": [
        "with open('../datos/informacion/texto_foros_strategy.txt', 'w', encoding='utf-8') as archivo:\n",
        "    for linea in textos_foros_strategy:\n",
        "        archivo.write(linea + '\\n')  # Escribir cada string en una nueva línea"
      ]
    },
    {
      "cell_type": "code",
      "execution_count": 49,
      "metadata": {},
      "outputs": [],
      "source": [
        "for texto in textos_foros_strategy:\n",
        "    caracteres += contarCaracteres(texto)"
      ]
    },
    {
      "cell_type": "code",
      "execution_count": 50,
      "metadata": {},
      "outputs": [
        {
          "name": "stdout",
          "output_type": "stream",
          "text": [
            "Cantidad de caracteres: 157899\n"
          ]
        }
      ],
      "source": [
        "print(f\"Cantidad de caracteres: {caracteres}\")"
      ]
    },
    {
      "cell_type": "markdown",
      "metadata": {
        "id": "Pv5kHj27rCO0"
      },
      "source": [
        "### News"
      ]
    },
    {
      "cell_type": "code",
      "execution_count": 30,
      "metadata": {
        "id": "aZJGSyioqpZK"
      },
      "outputs": [],
      "source": [
        "#URL de los foros de News.\n",
        "url_foro = \"https://boardgamegeek.com/boardgame/266524/parks/forums/68\"\n",
        "driver.get(url_foro)\n",
        "time.sleep(3)\n",
        "\n",
        "hilos = driver.find_elements(By.CSS_SELECTOR, \"a[href^='/thread/']\")  # todos los <a> que empiezan con /thread/\n",
        "\n",
        "links_hilos = []\n",
        "for hilo in hilos:\n",
        "    link = hilo.get_attribute('href')\n",
        "    if link:  # asegurar que no sea None\n",
        "        link_completo = \"https://boardgamegeek.com\" + link if link.startswith(\"/thread/\") else link\n",
        "        links_hilos.append(link_completo)\n",
        "\n",
        "#Eliminar los links repetidos\n",
        "links_unicos = list(set(links_hilos))"
      ]
    },
    {
      "cell_type": "code",
      "execution_count": 31,
      "metadata": {
        "id": "ksdNVQ4yq9NZ"
      },
      "outputs": [],
      "source": [
        "textos_foros_news = []\n",
        "\n",
        "for link in links_unicos:\n",
        "    driver.get(link)\n",
        "    time.sleep(2)\n",
        "\n",
        "    posts = driver.find_elements(By.TAG_NAME, \"gg-markup-safe-html\")\n",
        "\n",
        "    for post in posts:\n",
        "        texto = post.text.strip()\n",
        "        if texto:\n",
        "            textos_foros_news.append(texto)\n",
        "\n",
        "textos_foros_news = list(set(textos_foros_news))"
      ]
    },
    {
      "cell_type": "code",
      "execution_count": 32,
      "metadata": {
        "id": "UgDkmOo7ryNa"
      },
      "outputs": [],
      "source": [
        "with open('../datos/informacion/texto_foros_news.txt', 'w', encoding='utf-8') as archivo:\n",
        "    for linea in textos_foros_news:\n",
        "        archivo.write(linea + '\\n')  # Escribir cada string en una nueva línea"
      ]
    },
    {
      "cell_type": "code",
      "execution_count": 51,
      "metadata": {},
      "outputs": [],
      "source": [
        "for texto in textos_foros_news:\n",
        "    caracteres += contarCaracteres(texto)"
      ]
    },
    {
      "cell_type": "code",
      "execution_count": 52,
      "metadata": {},
      "outputs": [
        {
          "name": "stdout",
          "output_type": "stream",
          "text": [
            "Cantidad de caracteres: 175422\n"
          ]
        }
      ],
      "source": [
        "print(f\"Cantidad de caracteres: {caracteres}\")"
      ]
    }
  ],
  "metadata": {
    "colab": {
      "provenance": []
    },
    "kernelspec": {
      "display_name": "base",
      "language": "python",
      "name": "python3"
    },
    "language_info": {
      "codemirror_mode": {
        "name": "ipython",
        "version": 3
      },
      "file_extension": ".py",
      "mimetype": "text/x-python",
      "name": "python",
      "nbconvert_exporter": "python",
      "pygments_lexer": "ipython3",
      "version": "3.12.4"
    }
  },
  "nbformat": 4,
  "nbformat_minor": 0
}
