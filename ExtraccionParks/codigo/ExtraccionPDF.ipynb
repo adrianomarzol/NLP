{
  "cells": [
    {
      "cell_type": "code",
      "execution_count": null,
      "metadata": {
        "id": "HXma3SYmxV8c"
      },
      "outputs": [],
      "source": [
        "pip install PyPDF2"
      ]
    },
    {
      "cell_type": "code",
      "execution_count": 1,
      "metadata": {},
      "outputs": [],
      "source": [
        "def contarCaracteres(texto):\n",
        "    texto_limpio = texto.replace(\" \", \"\").replace(\"\\n\", \"\").replace(\"\\t\", \"\")\n",
        "\n",
        "    return len(texto_limpio)\n",
        "\n",
        "caracteres = 0"
      ]
    },
    {
      "cell_type": "code",
      "execution_count": 2,
      "metadata": {
        "id": "aeGshRGFxf6s"
      },
      "outputs": [],
      "source": [
        "import PyPDF2\n",
        "\n",
        "def leerPDF(ruta):\n",
        "    # Abre el archivo en modo binario de lectura ('rb')\n",
        "    with open(ruta, 'rb') as archivo:\n",
        "        # Crea un objeto PdfFileReader\n",
        "        lector = PyPDF2.PdfReader(archivo)\n",
        "\n",
        "        # Inicializa una cadena vacía para almacenar el texto\n",
        "        texto = ''\n",
        "\n",
        "        # Itera sobre todas las páginas del PDF\n",
        "        for i in range(len(lector.pages)):\n",
        "            # Obtiene la página\n",
        "            pagina = lector.pages[i]\n",
        "\n",
        "            # Extrae el texto de la página y lo añade a la cadena de texto\n",
        "            texto += pagina.extract_text ()\n",
        "\n",
        "    # Imprime el texto extraído\n",
        "    return texto\n",
        "\n",
        "def stringToTxt(string, nombre):\n",
        "    archivo = open(nombre, \"w\")\n",
        "    archivo.write(string)\n",
        "    archivo.close()"
      ]
    },
    {
      "cell_type": "code",
      "execution_count": 3,
      "metadata": {
        "id": "LnO3EgesxtXf"
      },
      "outputs": [],
      "source": [
        "texto_reglas_espanol_pdf = leerPDF(\"../content/Parks_-_Reglas_a_la_JcK.pdf\")\n",
        "texto_reglas_ingles_pdf = leerPDF(\"../content/Rules1_1Small.pdf\")"
      ]
    },
    {
      "cell_type": "code",
      "execution_count": 8,
      "metadata": {},
      "outputs": [],
      "source": [
        "stringToTxt(texto_reglas_espanol_pdf, \"../datos/informacion/reglas_pdf_espanol.txt\")\n",
        "stringToTxt(texto_reglas_ingles_pdf, \"../datos/informacion/reglas_pdf_ingles.txt\")"
      ]
    },
    {
      "cell_type": "code",
      "execution_count": 4,
      "metadata": {},
      "outputs": [],
      "source": [
        "caracteres += contarCaracteres(texto_reglas_espanol_pdf)\n",
        "caracteres += contarCaracteres(texto_reglas_ingles_pdf)"
      ]
    },
    {
      "cell_type": "code",
      "execution_count": 5,
      "metadata": {},
      "outputs": [
        {
          "name": "stdout",
          "output_type": "stream",
          "text": [
            "Cantidad de caracteres: 27150\n"
          ]
        }
      ],
      "source": [
        "print(f\"Cantidad de caracteres: {caracteres}\")"
      ]
    }
  ],
  "metadata": {
    "colab": {
      "provenance": []
    },
    "kernelspec": {
      "display_name": "base",
      "language": "python",
      "name": "python3"
    },
    "language_info": {
      "codemirror_mode": {
        "name": "ipython",
        "version": 3
      },
      "file_extension": ".py",
      "mimetype": "text/x-python",
      "name": "python",
      "nbconvert_exporter": "python",
      "pygments_lexer": "ipython3",
      "version": "3.12.4"
    }
  },
  "nbformat": 4,
  "nbformat_minor": 0
}
