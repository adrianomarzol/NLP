{
  "cells": [
    {
      "cell_type": "code",
      "execution_count": null,
      "metadata": {
        "id": "HXma3SYmxV8c"
      },
      "outputs": [],
      "source": [
        "pip install youtube-transcript-api"
      ]
    },
    {
      "cell_type": "code",
      "execution_count": 7,
      "metadata": {
        "id": "aeGshRGFxf6s"
      },
      "outputs": [],
      "source": [
        "from youtube_transcript_api import YouTubeTranscriptApi\n",
        "\n",
        "def transcripcionDeVideos(link, language):\n",
        "    transcripcion = YouTubeTranscriptApi.get_transcript(link, languages=[language])\n",
        "    texto = \" \".join([frase['text'] for frase in transcripcion])\n",
        "\n",
        "    return texto\n",
        "\n",
        "def stringToTxt(string, nombre):\n",
        "    archivo = open(nombre, \"w\")\n",
        "    archivo.write(string)\n",
        "    archivo.close()\n",
        "\n",
        "def listStringsToTxt(lista, nombre_archivo):\n",
        "    for i in range(len(lista)):\n",
        "        stringToTxt(lista[i], \"../datos/informacion/\" + nombre_archivo + str(i+1) + \".txt\")"
      ]
    },
    {
      "cell_type": "code",
      "execution_count": 4,
      "metadata": {
        "id": "LnO3EgesxtXf"
      },
      "outputs": [],
      "source": [
        "links_reviews_es = ['2gmRvrgWHAU','AmvPFELgBzM','_9nwrm5dnvw','J2giTJIEeFc','hpRYK92Tp5w']\n",
        "links_reviews_en = ['webI4VJfllA','DXrLDzUKwx4','ZiLFlgXxbTM']\n",
        "links_htp = ['IK8e0MvD_ls','xqq1R_kFwIk','tMlp5EREKsE','67QGD6k0EEQ','4j2Znqn_eJk']\n",
        "\n",
        "texto_reviews_es = []\n",
        "for link in links_reviews_es:\n",
        "    texto_reviews_es.append(transcripcionDeVideos(link,'es'))\n",
        "\n",
        "texto_reviews_en = []\n",
        "for link in links_reviews_en:\n",
        "    texto_reviews_en.append(transcripcionDeVideos(link,'en'))\n",
        "\n",
        "texto_htp = []\n",
        "for link in links_htp:\n",
        "    texto_htp.append(transcripcionDeVideos(link,'es'))"
      ]
    },
    {
      "cell_type": "code",
      "execution_count": 8,
      "metadata": {},
      "outputs": [],
      "source": [
        "listStringsToTxt(texto_reviews_es, \"reviews_videos_es_\")\n",
        "listStringsToTxt(texto_reviews_en, \"reviews_videos_en_\")\n",
        "listStringsToTxt(texto_htp, \"htp_videos_en_\")"
      ]
    }
  ],
  "metadata": {
    "colab": {
      "provenance": []
    },
    "kernelspec": {
      "display_name": "base",
      "language": "python",
      "name": "python3"
    },
    "language_info": {
      "codemirror_mode": {
        "name": "ipython",
        "version": 3
      },
      "file_extension": ".py",
      "mimetype": "text/x-python",
      "name": "python",
      "nbconvert_exporter": "python",
      "pygments_lexer": "ipython3",
      "version": "3.12.4"
    }
  },
  "nbformat": 4,
  "nbformat_minor": 0
}
