{
  "nbformat": 4,
  "nbformat_minor": 0,
  "metadata": {
    "colab": {
      "provenance": []
    },
    "kernelspec": {
      "name": "python3",
      "display_name": "Python 3"
    },
    "language_info": {
      "name": "python"
    }
  },
  "cells": [
    {
      "cell_type": "code",
      "execution_count": null,
      "metadata": {
        "id": "T0C524mrz4Gr"
      },
      "outputs": [],
      "source": [
        "!apt-get update\n",
        "!pip install selenium webdriver-manager flask"
      ]
    },
    {
      "cell_type": "code",
      "source": [
        "# Descargar ChromeDriver\n",
        "!wget https://chromedriver.storage.googleapis.com/114.0.5735.90/chromedriver_linux64.zip\n",
        "\n",
        "# Descomprimir ChromeDriver\n",
        "!unzip chromedriver_linux64.zip"
      ],
      "metadata": {
        "id": "4aAFbXsqK5vI",
        "colab": {
          "base_uri": "https://localhost:8080/"
        },
        "outputId": "a7b84478-71ef-4b11-abe9-804fa59ada85"
      },
      "execution_count": 2,
      "outputs": [
        {
          "output_type": "stream",
          "name": "stdout",
          "text": [
            "--2025-04-27 14:18:41--  https://chromedriver.storage.googleapis.com/114.0.5735.90/chromedriver_linux64.zip\n",
            "Resolving chromedriver.storage.googleapis.com (chromedriver.storage.googleapis.com)... 142.251.111.207, 142.251.163.207, 142.251.167.207, ...\n",
            "Connecting to chromedriver.storage.googleapis.com (chromedriver.storage.googleapis.com)|142.251.111.207|:443... connected.\n",
            "HTTP request sent, awaiting response... 200 OK\n",
            "Length: 7407250 (7.1M) [application/zip]\n",
            "Saving to: ‘chromedriver_linux64.zip’\n",
            "\n",
            "\rchromedriver_linux6   0%[                    ]       0  --.-KB/s               \rchromedriver_linux6 100%[===================>]   7.06M  --.-KB/s    in 0.04s   \n",
            "\n",
            "2025-04-27 14:18:41 (201 MB/s) - ‘chromedriver_linux64.zip’ saved [7407250/7407250]\n",
            "\n",
            "Archive:  chromedriver_linux64.zip\n",
            "  inflating: chromedriver            \n",
            "  inflating: LICENSE.chromedriver    \n"
          ]
        }
      ]
    },
    {
      "cell_type": "code",
      "source": [
        "from selenium import webdriver\n",
        "from selenium.webdriver.chrome.service import Service\n",
        "from selenium.webdriver.chrome.options import Options\n",
        "from selenium.webdriver.common.by import By\n",
        "from selenium.webdriver.support.ui import WebDriverWait\n",
        "from selenium.webdriver.support import expected_conditions as EC\n",
        "from selenium.webdriver.support.ui import WebDriverWait\n",
        "\n",
        "import time\n",
        "\n",
        "# Configuración más detallada de las opciones de Chrome\n",
        "chrome_options = Options()\n",
        "chrome_options.add_argument('--headless')\n",
        "chrome_options.add_argument('--no-sandbox')\n",
        "chrome_options.add_argument('--disable-dev-shm-usage')\n",
        "chrome_options.add_argument('--disable-gpu')\n",
        "\n",
        "# Configurar la ruta del driver\n",
        "service = Service('/usr/bin/chromedriver')"
      ],
      "metadata": {
        "id": "lQs9SBGBLCBv"
      },
      "execution_count": 3,
      "outputs": []
    },
    {
      "cell_type": "markdown",
      "source": [
        "##Loguearse en la página:"
      ],
      "metadata": {
        "id": "gSRJaH2XhFaT"
      }
    },
    {
      "cell_type": "code",
      "source": [
        "from selenium import webdriver\n",
        "from selenium.webdriver.common.by import By\n",
        "from selenium.webdriver.common.keys import Keys\n",
        "import time\n",
        "import requests\n",
        "driver = webdriver.Chrome(options=chrome_options)\n",
        "\n",
        "# Abrir la página web\n",
        "driver.get('https://boardgamegeek.com/boardgame/266524/parks/credits')\n",
        "\n",
        "# Esperar que la página cargue (ajustar si es necesario)\n",
        "time.sleep(2)\n",
        "\n",
        "# Suponiendo que el botón para abrir el formulario de login tiene el ID 'login_button'\n",
        "login_button = driver.find_element(By.CSS_SELECTOR, 'button[login-required]')\n",
        "login_button.click()\n",
        "\n",
        "# Esperar a que la ventana emergente cargue\n",
        "time.sleep(2)\n",
        "\n",
        "# Rellenar el formulario de inicio de sesión\n",
        "# Encontrar los campos de usuario y contraseña (ajustar según la página)\n",
        "username_field = driver.find_element(By.ID, 'inputUsername')\n",
        "password_field = driver.find_element(By.ID, 'inputPassword')\n",
        "\n",
        "username_field.send_keys('nlp2025')\n",
        "password_field.send_keys('nlp2025')\n",
        "\n",
        "# Enviar el formulario (presionar Enter o el botón de login)\n",
        "password_field.send_keys(Keys.RETURN)\n",
        "\n",
        "# O también podrías encontrar el botón de login y hacer click:\n",
        "# login_submit_button = driver.find_element(By.ID, 'submit_login')\n",
        "# login_submit_button.click()\n",
        "\n",
        "# Esperar unos segundos para que la página cargue después del login\n",
        "time.sleep(5)"
      ],
      "metadata": {
        "id": "OTH1UehPLQFi"
      },
      "execution_count": 25,
      "outputs": []
    },
    {
      "cell_type": "markdown",
      "source": [
        "##Extracción de videos:"
      ],
      "metadata": {
        "id": "IFuTHkl225oy"
      }
    },
    {
      "cell_type": "code",
      "source": [
        "!pip install youtube-transcript-api"
      ],
      "metadata": {
        "id": "_8V3EKTv4nXX",
        "colab": {
          "base_uri": "https://localhost:8080/"
        },
        "outputId": "03994ec3-20f2-482a-8faf-8df70134dde5"
      },
      "execution_count": null,
      "outputs": [
        {
          "output_type": "stream",
          "name": "stdout",
          "text": [
            "Collecting youtube-transcript-api\n",
            "  Downloading youtube_transcript_api-1.0.3-py3-none-any.whl.metadata (23 kB)\n",
            "Requirement already satisfied: defusedxml<0.8.0,>=0.7.1 in /usr/local/lib/python3.11/dist-packages (from youtube-transcript-api) (0.7.1)\n",
            "Requirement already satisfied: requests in /usr/local/lib/python3.11/dist-packages (from youtube-transcript-api) (2.32.3)\n",
            "Requirement already satisfied: charset-normalizer<4,>=2 in /usr/local/lib/python3.11/dist-packages (from requests->youtube-transcript-api) (3.4.1)\n",
            "Requirement already satisfied: idna<4,>=2.5 in /usr/local/lib/python3.11/dist-packages (from requests->youtube-transcript-api) (3.10)\n",
            "Requirement already satisfied: urllib3<3,>=1.21.1 in /usr/local/lib/python3.11/dist-packages (from requests->youtube-transcript-api) (2.3.0)\n",
            "Requirement already satisfied: certifi>=2017.4.17 in /usr/local/lib/python3.11/dist-packages (from requests->youtube-transcript-api) (2025.1.31)\n",
            "Downloading youtube_transcript_api-1.0.3-py3-none-any.whl (2.2 MB)\n",
            "\u001b[2K   \u001b[90m━━━━━━━━━━━━━━━━━━━━━━━━━━━━━━━━━━━━━━━━\u001b[0m \u001b[32m2.2/2.2 MB\u001b[0m \u001b[31m23.1 MB/s\u001b[0m eta \u001b[36m0:00:00\u001b[0m\n",
            "\u001b[?25hInstalling collected packages: youtube-transcript-api\n",
            "Successfully installed youtube-transcript-api-1.0.3\n"
          ]
        }
      ]
    },
    {
      "cell_type": "code",
      "source": [
        "from youtube_transcript_api import YouTubeTranscriptApi"
      ],
      "metadata": {
        "id": "Nigs6oEq4Itt"
      },
      "execution_count": null,
      "outputs": []
    },
    {
      "cell_type": "code",
      "source": [
        "links_reviews_es = ['2gmRvrgWHAU','AmvPFELgBzM','_9nwrm5dnvw','J2giTJIEeFc','hpRYK92Tp5w']\n",
        "links_reviews_en = ['webI4VJfllA','DXrLDzUKwx4','ZiLFlgXxbTM']\n",
        "links_htp = ['IK8e0MvD_ls','xqq1R_kFwIk','tMlp5EREKsE','67QGD6k0EEQ','4j2Znqn_eJk']\n",
        "\n",
        "def transcripcionDeVideos(link, language):\n",
        "    transcripcion = YouTubeTranscriptApi.get_transcript(link, languages=[language])\n",
        "    texto = \" \".join([frase['text'] for frase in transcripcion])\n",
        "\n",
        "    return texto\n",
        "\n",
        "texto_reviews_es = []\n",
        "for link in links_reviews_es:\n",
        "    texto_reviews_es.append(transcripcionDeVideos(link,'es'))\n",
        "\n",
        "texto_reviews_en = []\n",
        "for link in links_reviews_en:\n",
        "    texto_reviews_en.append(transcripcionDeVideos(link,'en'))\n",
        "\n",
        "texto_htp = []\n",
        "for link in links_htp:\n",
        "    texto_htp.append(transcripcionDeVideos(link,'es'))"
      ],
      "metadata": {
        "id": "_eWpzCDLLhRo"
      },
      "execution_count": null,
      "outputs": []
    },
    {
      "cell_type": "code",
      "source": [
        "stringToTxt(texto_reviews_es[0], \"review_es_1_videoyt.txt\")\n",
        "stringToTxt(texto_reviews_es[1], \"review_es_2_videoyt.txt\")\n",
        "stringToTxt(texto_reviews_es[2], \"review_es_3_videoyt.txt\")\n",
        "stringToTxt(texto_reviews_es[3], \"review_es_4_videoyt.txt\")\n",
        "stringToTxt(texto_reviews_es[4], \"review_es_5_videoyt.txt\")"
      ],
      "metadata": {
        "id": "nlgHOOd1okmC"
      },
      "execution_count": null,
      "outputs": []
    },
    {
      "cell_type": "code",
      "source": [
        "stringToTxt(texto_reviews_en[0], \"review_en_1_videoyt.txt\")\n",
        "stringToTxt(texto_reviews_en[1], \"review_en_2_videoyt.txt\")\n",
        "stringToTxt(texto_reviews_en[2], \"review_en_3_videoyt.txt\")"
      ],
      "metadata": {
        "id": "htud5P2OpMPl"
      },
      "execution_count": null,
      "outputs": []
    },
    {
      "cell_type": "code",
      "source": [
        "stringToTxt(texto_htp[0], \"howtoplay_1_videoyt.txt\")\n",
        "stringToTxt(texto_htp[1], \"howtoplay_2_videoyt.txt\")\n",
        "stringToTxt(texto_htp[2], \"howtoplay_3_videoyt.txt\")\n",
        "stringToTxt(texto_htp[3], \"howtoplay_4_videoyt.txt\")\n",
        "stringToTxt(texto_htp[4], \"howtoplay_5_videoyt.txt\")"
      ],
      "metadata": {
        "id": "P_i-AbgupQaL"
      },
      "execution_count": null,
      "outputs": []
    },
    {
      "cell_type": "markdown",
      "source": [
        "##Extraccion de overview:\n"
      ],
      "metadata": {
        "id": "3GzUIkEIfs7w"
      }
    },
    {
      "cell_type": "code",
      "source": [
        "import pandas as pd"
      ],
      "metadata": {
        "id": "iDYVB-9juKaz"
      },
      "execution_count": 5,
      "outputs": []
    },
    {
      "cell_type": "code",
      "source": [
        "driver.get('https://boardgamegeek.com/boardgame/266524/parks/credits')\n",
        "\n",
        "#Extraccion de datos del juego.\n",
        "datos_juego = []\n",
        "\n",
        "items = driver.find_elements(By.CLASS_NAME, 'outline-item')\n",
        "for item in items:\n",
        "    datos_juego.append(item.text)\n",
        "\n",
        "game_header = driver.find_elements(By.CLASS_NAME, 'gameplay-item-primary')\n",
        "for header in game_header:\n",
        "    datos_juego.append(header.text)\n",
        "\n",
        "for i in range(0,len(datos_juego)):\n",
        "    datos_juego[i] = datos_juego[i].replace('\\n', ' ')\n",
        "    datos_juego[i] = datos_juego[i].replace('Complexity Rating', '')\n",
        "\n",
        "datos = pd.DataFrame([{\n",
        "    'Nombre Primario': datos_juego[0].replace(\"Primary Name \", \"\"),\n",
        "    'Nombres Alternativos': datos_juego[1].replace(\"Alternate Names \", \"\"),\n",
        "    'Lanzamiento': datos_juego[2].replace(\"Year Released \", \"\"),\n",
        "    'Diseñador': datos_juego[3].replace(\"Designer \", \"\"),\n",
        "    'Publicado por': datos_juego[5].replace(\"Publisher \", \"\"),\n",
        "    'Editor': datos_juego[10].replace(\"Editor \", \"\"),\n",
        "    'Insert Designers': datos_juego[12].replace(\"Insert Designers\",\"\"),\n",
        "    'Categorias': datos_juego[13].replace(\"Categories \",\"\"),\n",
        "    'Mecanismos': datos_juego[14].replace(\"Mechanics \",\"\"),\n",
        "    'Familia': datos_juego[15].replace(\"Family \",\"\"),\n",
        "    'Jugadores': datos_juego[16].replace(\" Players\",\"\"),\n",
        "    'Tiempo de juego': datos_juego[17],\n",
        "    'Edad': datos_juego[18].replace(\"Age: \",\"\"),\n",
        "    'Complejidad': datos_juego[19].replace(\"Weight: \",\"\")\n",
        "}])"
      ],
      "metadata": {
        "id": "O02Oci0Dr5kr"
      },
      "execution_count": 6,
      "outputs": []
    },
    {
      "cell_type": "code",
      "source": [
        "datos"
      ],
      "metadata": {
        "id": "nrEZyB9SzFfm",
        "colab": {
          "base_uri": "https://localhost:8080/",
          "height": 150
        },
        "outputId": "8741cd7b-0439-4142-dc78-6cffaf9c952f"
      },
      "execution_count": 7,
      "outputs": [
        {
          "output_type": "execute_result",
          "data": {
            "text/plain": [
              "  Nombre Primario         Nombres Alternativos Lanzamiento      Diseñador  \\\n",
              "0           PARKS  Parki PARKY Парки 國家公園：自然之旅        2019  Henry Audubon   \n",
              "\n",
              "                          Publicado por          Editor  \\\n",
              "0  Artist Fifty-Nine Parks Print Series  Travis D. Hill   \n",
              "\n",
              "           Insert Designers                             Categorias  \\\n",
              "0   Noah Adelman Bryce Cook  Animals Economic Environmental Travel   \n",
              "\n",
              "                                          Mecanismos  \\\n",
              "0  Mechanisms Contracts End Game Bonuses Events M...   \n",
              "\n",
              "                                             Familia Jugadores  \\\n",
              "0  Components: Game Trayz Inside Components: Meep...       1–5   \n",
              "\n",
              "  Tiempo de juego Edad Complejidad  \n",
              "0       30–60 Min  10+   2.12 / 5   "
            ],
            "text/html": [
              "\n",
              "  <div id=\"df-21827186-2e4b-4ae1-a893-ec5ba92ba0be\" class=\"colab-df-container\">\n",
              "    <div>\n",
              "<style scoped>\n",
              "    .dataframe tbody tr th:only-of-type {\n",
              "        vertical-align: middle;\n",
              "    }\n",
              "\n",
              "    .dataframe tbody tr th {\n",
              "        vertical-align: top;\n",
              "    }\n",
              "\n",
              "    .dataframe thead th {\n",
              "        text-align: right;\n",
              "    }\n",
              "</style>\n",
              "<table border=\"1\" class=\"dataframe\">\n",
              "  <thead>\n",
              "    <tr style=\"text-align: right;\">\n",
              "      <th></th>\n",
              "      <th>Nombre Primario</th>\n",
              "      <th>Nombres Alternativos</th>\n",
              "      <th>Lanzamiento</th>\n",
              "      <th>Diseñador</th>\n",
              "      <th>Publicado por</th>\n",
              "      <th>Editor</th>\n",
              "      <th>Insert Designers</th>\n",
              "      <th>Categorias</th>\n",
              "      <th>Mecanismos</th>\n",
              "      <th>Familia</th>\n",
              "      <th>Jugadores</th>\n",
              "      <th>Tiempo de juego</th>\n",
              "      <th>Edad</th>\n",
              "      <th>Complejidad</th>\n",
              "    </tr>\n",
              "  </thead>\n",
              "  <tbody>\n",
              "    <tr>\n",
              "      <th>0</th>\n",
              "      <td>PARKS</td>\n",
              "      <td>Parki PARKY Парки 國家公園：自然之旅</td>\n",
              "      <td>2019</td>\n",
              "      <td>Henry Audubon</td>\n",
              "      <td>Artist Fifty-Nine Parks Print Series</td>\n",
              "      <td>Travis D. Hill</td>\n",
              "      <td>Noah Adelman Bryce Cook</td>\n",
              "      <td>Animals Economic Environmental Travel</td>\n",
              "      <td>Mechanisms Contracts End Game Bonuses Events M...</td>\n",
              "      <td>Components: Game Trayz Inside Components: Meep...</td>\n",
              "      <td>1–5</td>\n",
              "      <td>30–60 Min</td>\n",
              "      <td>10+</td>\n",
              "      <td>2.12 / 5</td>\n",
              "    </tr>\n",
              "  </tbody>\n",
              "</table>\n",
              "</div>\n",
              "    <div class=\"colab-df-buttons\">\n",
              "\n",
              "  <div class=\"colab-df-container\">\n",
              "    <button class=\"colab-df-convert\" onclick=\"convertToInteractive('df-21827186-2e4b-4ae1-a893-ec5ba92ba0be')\"\n",
              "            title=\"Convert this dataframe to an interactive table.\"\n",
              "            style=\"display:none;\">\n",
              "\n",
              "  <svg xmlns=\"http://www.w3.org/2000/svg\" height=\"24px\" viewBox=\"0 -960 960 960\">\n",
              "    <path d=\"M120-120v-720h720v720H120Zm60-500h600v-160H180v160Zm220 220h160v-160H400v160Zm0 220h160v-160H400v160ZM180-400h160v-160H180v160Zm440 0h160v-160H620v160ZM180-180h160v-160H180v160Zm440 0h160v-160H620v160Z\"/>\n",
              "  </svg>\n",
              "    </button>\n",
              "\n",
              "  <style>\n",
              "    .colab-df-container {\n",
              "      display:flex;\n",
              "      gap: 12px;\n",
              "    }\n",
              "\n",
              "    .colab-df-convert {\n",
              "      background-color: #E8F0FE;\n",
              "      border: none;\n",
              "      border-radius: 50%;\n",
              "      cursor: pointer;\n",
              "      display: none;\n",
              "      fill: #1967D2;\n",
              "      height: 32px;\n",
              "      padding: 0 0 0 0;\n",
              "      width: 32px;\n",
              "    }\n",
              "\n",
              "    .colab-df-convert:hover {\n",
              "      background-color: #E2EBFA;\n",
              "      box-shadow: 0px 1px 2px rgba(60, 64, 67, 0.3), 0px 1px 3px 1px rgba(60, 64, 67, 0.15);\n",
              "      fill: #174EA6;\n",
              "    }\n",
              "\n",
              "    .colab-df-buttons div {\n",
              "      margin-bottom: 4px;\n",
              "    }\n",
              "\n",
              "    [theme=dark] .colab-df-convert {\n",
              "      background-color: #3B4455;\n",
              "      fill: #D2E3FC;\n",
              "    }\n",
              "\n",
              "    [theme=dark] .colab-df-convert:hover {\n",
              "      background-color: #434B5C;\n",
              "      box-shadow: 0px 1px 3px 1px rgba(0, 0, 0, 0.15);\n",
              "      filter: drop-shadow(0px 1px 2px rgba(0, 0, 0, 0.3));\n",
              "      fill: #FFFFFF;\n",
              "    }\n",
              "  </style>\n",
              "\n",
              "    <script>\n",
              "      const buttonEl =\n",
              "        document.querySelector('#df-21827186-2e4b-4ae1-a893-ec5ba92ba0be button.colab-df-convert');\n",
              "      buttonEl.style.display =\n",
              "        google.colab.kernel.accessAllowed ? 'block' : 'none';\n",
              "\n",
              "      async function convertToInteractive(key) {\n",
              "        const element = document.querySelector('#df-21827186-2e4b-4ae1-a893-ec5ba92ba0be');\n",
              "        const dataTable =\n",
              "          await google.colab.kernel.invokeFunction('convertToInteractive',\n",
              "                                                    [key], {});\n",
              "        if (!dataTable) return;\n",
              "\n",
              "        const docLinkHtml = 'Like what you see? Visit the ' +\n",
              "          '<a target=\"_blank\" href=https://colab.research.google.com/notebooks/data_table.ipynb>data table notebook</a>'\n",
              "          + ' to learn more about interactive tables.';\n",
              "        element.innerHTML = '';\n",
              "        dataTable['output_type'] = 'display_data';\n",
              "        await google.colab.output.renderOutput(dataTable, element);\n",
              "        const docLink = document.createElement('div');\n",
              "        docLink.innerHTML = docLinkHtml;\n",
              "        element.appendChild(docLink);\n",
              "      }\n",
              "    </script>\n",
              "  </div>\n",
              "\n",
              "\n",
              "  <div id=\"id_dbca69d1-4d27-4896-b3e2-7caaf48bb502\">\n",
              "    <style>\n",
              "      .colab-df-generate {\n",
              "        background-color: #E8F0FE;\n",
              "        border: none;\n",
              "        border-radius: 50%;\n",
              "        cursor: pointer;\n",
              "        display: none;\n",
              "        fill: #1967D2;\n",
              "        height: 32px;\n",
              "        padding: 0 0 0 0;\n",
              "        width: 32px;\n",
              "      }\n",
              "\n",
              "      .colab-df-generate:hover {\n",
              "        background-color: #E2EBFA;\n",
              "        box-shadow: 0px 1px 2px rgba(60, 64, 67, 0.3), 0px 1px 3px 1px rgba(60, 64, 67, 0.15);\n",
              "        fill: #174EA6;\n",
              "      }\n",
              "\n",
              "      [theme=dark] .colab-df-generate {\n",
              "        background-color: #3B4455;\n",
              "        fill: #D2E3FC;\n",
              "      }\n",
              "\n",
              "      [theme=dark] .colab-df-generate:hover {\n",
              "        background-color: #434B5C;\n",
              "        box-shadow: 0px 1px 3px 1px rgba(0, 0, 0, 0.15);\n",
              "        filter: drop-shadow(0px 1px 2px rgba(0, 0, 0, 0.3));\n",
              "        fill: #FFFFFF;\n",
              "      }\n",
              "    </style>\n",
              "    <button class=\"colab-df-generate\" onclick=\"generateWithVariable('datos')\"\n",
              "            title=\"Generate code using this dataframe.\"\n",
              "            style=\"display:none;\">\n",
              "\n",
              "  <svg xmlns=\"http://www.w3.org/2000/svg\" height=\"24px\"viewBox=\"0 0 24 24\"\n",
              "       width=\"24px\">\n",
              "    <path d=\"M7,19H8.4L18.45,9,17,7.55,7,17.6ZM5,21V16.75L18.45,3.32a2,2,0,0,1,2.83,0l1.4,1.43a1.91,1.91,0,0,1,.58,1.4,1.91,1.91,0,0,1-.58,1.4L9.25,21ZM18.45,9,17,7.55Zm-12,3A5.31,5.31,0,0,0,4.9,8.1,5.31,5.31,0,0,0,1,6.5,5.31,5.31,0,0,0,4.9,4.9,5.31,5.31,0,0,0,6.5,1,5.31,5.31,0,0,0,8.1,4.9,5.31,5.31,0,0,0,12,6.5,5.46,5.46,0,0,0,6.5,12Z\"/>\n",
              "  </svg>\n",
              "    </button>\n",
              "    <script>\n",
              "      (() => {\n",
              "      const buttonEl =\n",
              "        document.querySelector('#id_dbca69d1-4d27-4896-b3e2-7caaf48bb502 button.colab-df-generate');\n",
              "      buttonEl.style.display =\n",
              "        google.colab.kernel.accessAllowed ? 'block' : 'none';\n",
              "\n",
              "      buttonEl.onclick = () => {\n",
              "        google.colab.notebook.generateWithVariable('datos');\n",
              "      }\n",
              "      })();\n",
              "    </script>\n",
              "  </div>\n",
              "\n",
              "    </div>\n",
              "  </div>\n"
            ],
            "application/vnd.google.colaboratory.intrinsic+json": {
              "type": "dataframe",
              "variable_name": "datos",
              "summary": "{\n  \"name\": \"datos\",\n  \"rows\": 1,\n  \"fields\": [\n    {\n      \"column\": \"Nombre Primario\",\n      \"properties\": {\n        \"dtype\": \"string\",\n        \"num_unique_values\": 1,\n        \"samples\": [\n          \"PARKS\"\n        ],\n        \"semantic_type\": \"\",\n        \"description\": \"\"\n      }\n    },\n    {\n      \"column\": \"Nombres Alternativos\",\n      \"properties\": {\n        \"dtype\": \"string\",\n        \"num_unique_values\": 1,\n        \"samples\": [\n          \"Parki PARKY \\u041f\\u0430\\u0440\\u043a\\u0438 \\u570b\\u5bb6\\u516c\\u5712\\uff1a\\u81ea\\u7136\\u4e4b\\u65c5\"\n        ],\n        \"semantic_type\": \"\",\n        \"description\": \"\"\n      }\n    },\n    {\n      \"column\": \"Lanzamiento\",\n      \"properties\": {\n        \"dtype\": \"object\",\n        \"num_unique_values\": 1,\n        \"samples\": [\n          \"2019\"\n        ],\n        \"semantic_type\": \"\",\n        \"description\": \"\"\n      }\n    },\n    {\n      \"column\": \"Dise\\u00f1ador\",\n      \"properties\": {\n        \"dtype\": \"string\",\n        \"num_unique_values\": 1,\n        \"samples\": [\n          \"Henry Audubon\"\n        ],\n        \"semantic_type\": \"\",\n        \"description\": \"\"\n      }\n    },\n    {\n      \"column\": \"Publicado por\",\n      \"properties\": {\n        \"dtype\": \"string\",\n        \"num_unique_values\": 1,\n        \"samples\": [\n          \"Artist Fifty-Nine Parks Print Series\"\n        ],\n        \"semantic_type\": \"\",\n        \"description\": \"\"\n      }\n    },\n    {\n      \"column\": \"Editor\",\n      \"properties\": {\n        \"dtype\": \"string\",\n        \"num_unique_values\": 1,\n        \"samples\": [\n          \"Travis D. Hill\"\n        ],\n        \"semantic_type\": \"\",\n        \"description\": \"\"\n      }\n    },\n    {\n      \"column\": \"Insert Designers\",\n      \"properties\": {\n        \"dtype\": \"string\",\n        \"num_unique_values\": 1,\n        \"samples\": [\n          \" Noah Adelman Bryce Cook\"\n        ],\n        \"semantic_type\": \"\",\n        \"description\": \"\"\n      }\n    },\n    {\n      \"column\": \"Categorias\",\n      \"properties\": {\n        \"dtype\": \"string\",\n        \"num_unique_values\": 1,\n        \"samples\": [\n          \"Animals Economic Environmental Travel\"\n        ],\n        \"semantic_type\": \"\",\n        \"description\": \"\"\n      }\n    },\n    {\n      \"column\": \"Mecanismos\",\n      \"properties\": {\n        \"dtype\": \"string\",\n        \"num_unique_values\": 1,\n        \"samples\": [\n          \"Mechanisms Contracts End Game Bonuses Events Modular Board Solo / Solitaire Game Track Movement Turn Order: Claim Action Variable Set-up Worker Placement\"\n        ],\n        \"semantic_type\": \"\",\n        \"description\": \"\"\n      }\n    },\n    {\n      \"column\": \"Familia\",\n      \"properties\": {\n        \"dtype\": \"string\",\n        \"num_unique_values\": 1,\n        \"samples\": [\n          \"Components: Game Trayz Inside Components: Meeples (Animal) / Animeeples Components: Wooden pieces & boards Country: USA Crowdfunding: Kickstarter Digital Implementations: Board Game Arena Misc: Made by Panda Players: Games with Solitaire Rules Series: PARKS Theme: Hiking Theme: Nature Theme: US National Parks\"\n        ],\n        \"semantic_type\": \"\",\n        \"description\": \"\"\n      }\n    },\n    {\n      \"column\": \"Jugadores\",\n      \"properties\": {\n        \"dtype\": \"string\",\n        \"num_unique_values\": 1,\n        \"samples\": [\n          \"1\\u20135\"\n        ],\n        \"semantic_type\": \"\",\n        \"description\": \"\"\n      }\n    },\n    {\n      \"column\": \"Tiempo de juego\",\n      \"properties\": {\n        \"dtype\": \"string\",\n        \"num_unique_values\": 1,\n        \"samples\": [\n          \"30\\u201360 Min\"\n        ],\n        \"semantic_type\": \"\",\n        \"description\": \"\"\n      }\n    },\n    {\n      \"column\": \"Edad\",\n      \"properties\": {\n        \"dtype\": \"string\",\n        \"num_unique_values\": 1,\n        \"samples\": [\n          \"10+\"\n        ],\n        \"semantic_type\": \"\",\n        \"description\": \"\"\n      }\n    },\n    {\n      \"column\": \"Complejidad\",\n      \"properties\": {\n        \"dtype\": \"string\",\n        \"num_unique_values\": 1,\n        \"samples\": [\n          \"2.12 / 5 \"\n        ],\n        \"semantic_type\": \"\",\n        \"description\": \"\"\n      }\n    }\n  ]\n}"
            }
          },
          "metadata": {},
          "execution_count": 7
        }
      ]
    },
    {
      "cell_type": "code",
      "source": [
        "#Extraccion de la descripcion del juego.\n",
        "body_descripcion = driver.find_element(By.CLASS_NAME, 'expandable-body')\n",
        "parrafos = body_descripcion.find_elements(By.TAG_NAME, 'p')\n",
        "descripcion = \"\\n\".join([parrafo.text for parrafo in parrafos]).replace('!', 'PARKS!')"
      ],
      "metadata": {
        "id": "KQh8Yu4thd5X"
      },
      "execution_count": null,
      "outputs": []
    },
    {
      "cell_type": "markdown",
      "source": [
        "#Extracción PDF:"
      ],
      "metadata": {
        "id": "OrpHPssIsTy5"
      }
    },
    {
      "cell_type": "code",
      "source": [
        "!pip install PyPDF2"
      ],
      "metadata": {
        "id": "ZEI1CupAsXkf",
        "colab": {
          "base_uri": "https://localhost:8080/"
        },
        "outputId": "7c2201d4-4f47-4f93-dfe1-5ba4c14dccdf"
      },
      "execution_count": 9,
      "outputs": [
        {
          "output_type": "stream",
          "name": "stdout",
          "text": [
            "Collecting PyPDF2\n",
            "  Downloading pypdf2-3.0.1-py3-none-any.whl.metadata (6.8 kB)\n",
            "Downloading pypdf2-3.0.1-py3-none-any.whl (232 kB)\n",
            "\u001b[?25l   \u001b[90m━━━━━━━━━━━━━━━━━━━━━━━━━━━━━━━━━━━━━━━━\u001b[0m \u001b[32m0.0/232.6 kB\u001b[0m \u001b[31m?\u001b[0m eta \u001b[36m-:--:--\u001b[0m\r\u001b[2K   \u001b[91m━━━━━━━━━━━━\u001b[0m\u001b[90m╺\u001b[0m\u001b[90m━━━━━━━━━━━━━━━━━━━━━━━━━━━\u001b[0m \u001b[32m71.7/232.6 kB\u001b[0m \u001b[31m2.6 MB/s\u001b[0m eta \u001b[36m0:00:01\u001b[0m\r\u001b[2K   \u001b[90m━━━━━━━━━━━━━━━━━━━━━━━━━━━━━━━━━━━━━━━━\u001b[0m \u001b[32m232.6/232.6 kB\u001b[0m \u001b[31m3.6 MB/s\u001b[0m eta \u001b[36m0:00:00\u001b[0m\n",
            "\u001b[?25hInstalling collected packages: PyPDF2\n",
            "Successfully installed PyPDF2-3.0.1\n"
          ]
        }
      ]
    },
    {
      "cell_type": "code",
      "source": [
        "import PyPDF2\n",
        "\n",
        "def leerPDF(ruta):\n",
        "    # Abre el archivo en modo binario de lectura ('rb')\n",
        "    with open(ruta, 'rb') as archivo:\n",
        "        # Crea un objeto PdfFileReader\n",
        "        lector = PyPDF2.PdfReader(archivo)\n",
        "\n",
        "        # Inicializa una cadena vacía para almacenar el texto\n",
        "        texto = ''\n",
        "\n",
        "        # Itera sobre todas las páginas del PDF\n",
        "        for i in range(len(lector.pages)):\n",
        "            # Obtiene la página\n",
        "            pagina = lector.pages[i]\n",
        "\n",
        "            # Extrae el texto de la página y lo añade a la cadena de texto\n",
        "            texto += pagina.extract_text ()\n",
        "\n",
        "    # Imprime el texto extraído\n",
        "    return texto\n",
        "\n",
        "def stringToTxt(string, nombre):\n",
        "    archivo = open(nombre, \"w\")\n",
        "    archivo.write(string)\n",
        "    archivo.close()"
      ],
      "metadata": {
        "id": "pdwc8IuDuakV"
      },
      "execution_count": 10,
      "outputs": []
    },
    {
      "cell_type": "code",
      "source": [
        "reglas_es = leerPDF('/content/Parks_-_Reglas_a_la_JcK.pdf')\n",
        "\n",
        "stringToTxt(reglas_es, \"reglas_espanol.txt\")"
      ],
      "metadata": {
        "id": "BwXw8twzv3QY"
      },
      "execution_count": null,
      "outputs": []
    },
    {
      "cell_type": "code",
      "source": [
        "reglas_en = leerPDF('/content/Rules1_1Small.pdf')\n",
        "\n",
        "stringToTxt(reglas_en, \"reglas_ingles.txt\")"
      ],
      "metadata": {
        "id": "CNIV1pNZv4OA"
      },
      "execution_count": null,
      "outputs": []
    },
    {
      "cell_type": "markdown",
      "source": [
        "#Extracción de foros:"
      ],
      "metadata": {
        "id": "o4hf81Abhakt"
      }
    },
    {
      "cell_type": "markdown",
      "source": [
        "##Variants"
      ],
      "metadata": {
        "id": "XADE5kX0pZrJ"
      }
    },
    {
      "cell_type": "code",
      "source": [
        "#URL de los foros de Variants.\n",
        "url_foro = \"https://boardgamegeek.com/boardgame/266524/parks/forums/69\"\n",
        "driver.get(url_foro)\n",
        "time.sleep(3)\n",
        "\n",
        "hilos = driver.find_elements(By.CSS_SELECTOR, \"a[href^='/thread/']\")  # todos los <a> que empiezan con /thread/\n",
        "\n",
        "links_hilos = []\n",
        "for hilo in hilos:\n",
        "    link = hilo.get_attribute('href')\n",
        "    if link:  # asegurar que no sea None\n",
        "        link_completo = \"https://boardgamegeek.com\" + link if link.startswith(\"/thread/\") else link\n",
        "        links_hilos.append(link_completo)\n",
        "\n",
        "#Eliminar los links repetidos\n",
        "links_unicos = list(set(links_hilos))"
      ],
      "metadata": {
        "id": "tIiktWishdw2"
      },
      "execution_count": 26,
      "outputs": []
    },
    {
      "cell_type": "code",
      "source": [
        "textos_foros_variants = []\n",
        "\n",
        "for link in links_unicos:\n",
        "    driver.get(link)\n",
        "    time.sleep(2)\n",
        "\n",
        "    posts = driver.find_elements(By.TAG_NAME, \"gg-markup-safe-html\")\n",
        "\n",
        "    for post in posts:\n",
        "        texto = post.text.strip()\n",
        "        if texto:\n",
        "            textos_foros_variants.append(texto)\n",
        "\n",
        "driver.quit()"
      ],
      "metadata": {
        "id": "imKLyaMvo99F"
      },
      "execution_count": 27,
      "outputs": []
    },
    {
      "cell_type": "code",
      "source": [
        "textos_foros_variants"
      ],
      "metadata": {
        "id": "lEm-1TA-sIKX"
      },
      "execution_count": null,
      "outputs": []
    },
    {
      "cell_type": "code",
      "source": [
        "with open('texto_foros_variants.txt', 'w', encoding='utf-8') as archivo:\n",
        "    for linea in textos_foros_variants:\n",
        "        archivo.write(linea + '\\n')  # Escribir cada string en una nueva línea"
      ],
      "metadata": {
        "id": "xfMjiuCQsIBr"
      },
      "execution_count": 29,
      "outputs": []
    },
    {
      "cell_type": "markdown",
      "source": [
        "##Strategy"
      ],
      "metadata": {
        "id": "VkItrPSPpcY3"
      }
    },
    {
      "cell_type": "code",
      "source": [
        "#URL de los foros de Strategy.\n",
        "url_foro = \"https://boardgamegeek.com/boardgame/266524/parks/forums/67\"\n",
        "driver.get(url_foro)\n",
        "time.sleep(3)\n",
        "\n",
        "hilos = driver.find_elements(By.CSS_SELECTOR, \"a[href^='/thread/']\")  # todos los <a> que empiezan con /thread/\n",
        "\n",
        "links_hilos = []\n",
        "for hilo in hilos:\n",
        "    link = hilo.get_attribute('href')\n",
        "    if link:  # asegurar que no sea None\n",
        "        link_completo = \"https://boardgamegeek.com\" + link if link.startswith(\"/thread/\") else link\n",
        "        links_hilos.append(link_completo)\n",
        "\n",
        "#Eliminar los links repetidos\n",
        "links_unicos = list(set(links_hilos))"
      ],
      "metadata": {
        "id": "yC_hpvgXpi5A"
      },
      "execution_count": 11,
      "outputs": []
    },
    {
      "cell_type": "code",
      "source": [
        "textos_foros_strategy = []\n",
        "\n",
        "for link in links_unicos:\n",
        "    driver.get(link)\n",
        "    time.sleep(2)\n",
        "\n",
        "    posts = driver.find_elements(By.TAG_NAME, \"gg-markup-safe-html\")\n",
        "\n",
        "    for post in posts:\n",
        "        texto = post.text.strip()\n",
        "        if texto:\n",
        "            textos_foros_strategy.append(texto)\n",
        "\n",
        "driver.quit()"
      ],
      "metadata": {
        "id": "zNzfn1LKprpt"
      },
      "execution_count": 12,
      "outputs": []
    },
    {
      "cell_type": "code",
      "source": [
        "textos_foros_strategy"
      ],
      "metadata": {
        "id": "Rwt9qsXwr_dJ"
      },
      "execution_count": null,
      "outputs": []
    },
    {
      "cell_type": "code",
      "source": [
        "with open('texto_foros_strategy.txt', 'w', encoding='utf-8') as archivo:\n",
        "    for linea in textos_foros_strategy:\n",
        "        archivo.write(linea + '\\n')  # Escribir cada string en una nueva línea"
      ],
      "metadata": {
        "id": "xXlH49AEr_Rh"
      },
      "execution_count": 22,
      "outputs": []
    },
    {
      "cell_type": "markdown",
      "source": [
        "##News"
      ],
      "metadata": {
        "id": "Pv5kHj27rCO0"
      }
    },
    {
      "cell_type": "code",
      "source": [
        "#URL de los foros de News.\n",
        "url_foro = \"https://boardgamegeek.com/boardgame/266524/parks/forums/68\"\n",
        "driver.get(url_foro)\n",
        "time.sleep(3)\n",
        "\n",
        "hilos = driver.find_elements(By.CSS_SELECTOR, \"a[href^='/thread/']\")  # todos los <a> que empiezan con /thread/\n",
        "\n",
        "links_hilos = []\n",
        "for hilo in hilos:\n",
        "    link = hilo.get_attribute('href')\n",
        "    if link:  # asegurar que no sea None\n",
        "        link_completo = \"https://boardgamegeek.com\" + link if link.startswith(\"/thread/\") else link\n",
        "        links_hilos.append(link_completo)\n",
        "\n",
        "#Eliminar los links repetidos\n",
        "links_unicos = list(set(links_hilos))"
      ],
      "metadata": {
        "id": "aZJGSyioqpZK"
      },
      "execution_count": 18,
      "outputs": []
    },
    {
      "cell_type": "code",
      "source": [
        "textos_foros_news = []\n",
        "\n",
        "for link in links_unicos:\n",
        "    driver.get(link)\n",
        "    time.sleep(2)\n",
        "\n",
        "    posts = driver.find_elements(By.TAG_NAME, \"gg-markup-safe-html\")\n",
        "\n",
        "    for post in posts:\n",
        "        texto = post.text.strip()\n",
        "        if texto:\n",
        "            textos_foros_news.append(texto)\n",
        "\n",
        "driver.quit()"
      ],
      "metadata": {
        "id": "ksdNVQ4yq9NZ"
      },
      "execution_count": 19,
      "outputs": []
    },
    {
      "cell_type": "code",
      "source": [
        "textos_foros_news"
      ],
      "metadata": {
        "id": "Uow-1Ms5rvv8"
      },
      "execution_count": null,
      "outputs": []
    },
    {
      "cell_type": "code",
      "source": [
        "with open('texto_foros_news.txt', 'w', encoding='utf-8') as archivo:\n",
        "    for linea in textos_foros_news:\n",
        "        archivo.write(linea + '\\n')  # Escribir cada string en una nueva línea"
      ],
      "metadata": {
        "id": "UgDkmOo7ryNa"
      },
      "execution_count": 21,
      "outputs": []
    }
  ]
}