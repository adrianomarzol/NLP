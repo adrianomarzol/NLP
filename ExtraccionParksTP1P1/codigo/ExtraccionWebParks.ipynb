{
  "cells": [
    {
      "cell_type": "code",
      "execution_count": null,
      "metadata": {
        "id": "T0C524mrz4Gr"
      },
      "outputs": [],
      "source": [
        "!apt-get update\n",
        "!pip install selenium webdriver-manager flask"
      ]
    },
    {
      "cell_type": "code",
      "execution_count": 4,
      "metadata": {
        "id": "4aAFbXsqK5vI"
      },
      "outputs": [
        {
          "name": "stderr",
          "output_type": "stream",
          "text": [
            "\"wget\" no se reconoce como un comando interno o externo,\n",
            "programa o archivo por lotes ejecutable.\n",
            "\"unzip\" no se reconoce como un comando interno o externo,\n",
            "programa o archivo por lotes ejecutable.\n"
          ]
        }
      ],
      "source": [
        "# Descargar ChromeDriver\n",
        "!wget https://chromedriver.storage.googleapis.com/114.0.5735.90/chromedriver_linux64.zip\n",
        "\n",
        "# Descomprimir ChromeDriver\n",
        "!unzip chromedriver_linux64.zip"
      ]
    },
    {
      "cell_type": "code",
      "execution_count": 1,
      "metadata": {
        "id": "lQs9SBGBLCBv"
      },
      "outputs": [],
      "source": [
        "from selenium import webdriver\n",
        "from selenium.webdriver.chrome.service import Service\n",
        "from selenium.webdriver.chrome.options import Options\n",
        "from selenium.webdriver.common.by import By\n",
        "from selenium.webdriver.support.ui import WebDriverWait\n",
        "from selenium.webdriver.support import expected_conditions as EC\n",
        "from selenium.webdriver.support.ui import WebDriverWait\n",
        "\n",
        "import time\n",
        "\n",
        "# Configuración más detallada de las opciones de Chrome\n",
        "chrome_options = Options()\n",
        "chrome_options.add_argument('--headless')\n",
        "chrome_options.add_argument('--no-sandbox')\n",
        "chrome_options.add_argument('--disable-dev-shm-usage')\n",
        "chrome_options.add_argument('--disable-gpu')\n",
        "\n",
        "# Configurar la ruta del driver\n",
        "service = Service('/usr/bin/chromedriver')"
      ]
    },
    {
      "cell_type": "markdown",
      "metadata": {
        "id": "gSRJaH2XhFaT"
      },
      "source": [
        "### Loguearse en la página:"
      ]
    },
    {
      "cell_type": "code",
      "execution_count": null,
      "metadata": {},
      "outputs": [],
      "source": [
        "from selenium import webdriver\n",
        "from selenium.webdriver.common.by import By\n",
        "from selenium.webdriver.chrome.service import Service\n",
        "from selenium.webdriver.chrome.options import Options\n",
        "from selenium.webdriver.support.ui import WebDriverWait\n",
        "from selenium.webdriver.support import expected_conditions as EC\n",
        "from webdriver_manager.chrome import ChromeDriverManager\n",
        "import time\n",
        "\n",
        "# --- OPCIONES DEL NAVEGADOR ---\n",
        "options = Options()\n",
        "# Descomenta esta línea si querés que se ejecute en segundo plano (sin abrir navegador)\n",
        "options.add_argument(\"--headless\")\n",
        "options.add_argument(\"--disable-gpu\")\n",
        "options.add_argument(\"--start-maximized\")  # Abrir en ventana maximizada\n",
        "options.add_argument(\"--window-size=1920,1080\")  # Tamaño fijo opcional\n",
        "\n",
        "# --- INICIALIZAR CHROME ---\n",
        "driver = webdriver.Chrome(service=Service(ChromeDriverManager().install()), options=options)\n",
        "\n",
        "# --- ABRIR UNA PÁGINA ---\n",
        "driver.get(\"https://boardgamegeek.com/boardgame/266524/parks/credits\")\n",
        "\n",
        "# Suponiendo que el botón para abrir el formulario de login tiene el ID 'login_button'\n",
        "wait = WebDriverWait(driver, 10)\n",
        "login_button = driver.find_element(By.CSS_SELECTOR, 'button[login-required]')\n",
        "login_button.click()\n",
        "\n",
        "# Rellenar el formulario de inicio de sesión\n",
        "# Encontrar los campos de usuario y contraseña (ajustar según la página)\n",
        "username_field = driver.find_element(By.ID, 'inputUsername')\n",
        "password_field = driver.find_element(By.ID, 'inputPassword')\n",
        "\n",
        "username_field.send_keys('nlp2025')\n",
        "password_field.send_keys('nlp2025')\n",
        "\n",
        "# Enviar el formulario (presionar Enter o el botón de login)\n",
        "#password_field.send_keys(Keys.RETURN)\n",
        "\n",
        "# O también podrías encontrar el botón de login y hacer click:\n",
        "# login_submit_button = driver.find_element(By.ID, 'submit_login')\n",
        "# login_submit_button.click()\n",
        "\n",
        "# Esperar unos segundos para que la página cargue después del login\n",
        "time.sleep(5)"
      ]
    },
    {
      "cell_type": "code",
      "execution_count": 3,
      "metadata": {},
      "outputs": [],
      "source": [
        "def contarCaracteres(texto):\n",
        "    texto_limpio = texto.replace(\" \", \"\").replace(\"\\n\", \"\").replace(\"\\t\", \"\")\n",
        "\n",
        "    return len(texto_limpio)\n",
        "\n",
        "caracteres = 0"
      ]
    },
    {
      "cell_type": "markdown",
      "metadata": {
        "id": "3GzUIkEIfs7w"
      },
      "source": [
        "## Extraccion de overview:"
      ]
    },
    {
      "cell_type": "code",
      "execution_count": 4,
      "metadata": {
        "id": "iDYVB-9juKaz"
      },
      "outputs": [],
      "source": [
        "import pandas as pd"
      ]
    },
    {
      "cell_type": "code",
      "execution_count": 5,
      "metadata": {},
      "outputs": [],
      "source": [
        "def stringToTxt(string, nombre):\n",
        "    archivo = open(nombre, \"w\")\n",
        "    archivo.write(string)\n",
        "    archivo.close()"
      ]
    },
    {
      "cell_type": "code",
      "execution_count": 6,
      "metadata": {
        "id": "KQh8Yu4thd5X"
      },
      "outputs": [],
      "source": [
        "driver.get('https://boardgamegeek.com/boardgame/266524/parks')\n",
        "\n",
        "#Extraccion de la descripcion del juego.\n",
        "body_descripcion = driver.find_element(By.CLASS_NAME, 'expandable-body')\n",
        "parrafos = body_descripcion.find_elements(By.TAG_NAME, 'p')\n",
        "descripcion = \"\\n\".join([parrafo.text for parrafo in parrafos]).replace('!', 'PARKS!')"
      ]
    },
    {
      "cell_type": "code",
      "execution_count": 18,
      "metadata": {
        "id": "73YbZ9O75Ovk"
      },
      "outputs": [],
      "source": [
        "stringToTxt(descripcion, \"../datos/informacion/descripcion_juego.txt\")"
      ]
    },
    {
      "cell_type": "code",
      "execution_count": 7,
      "metadata": {},
      "outputs": [],
      "source": [
        "caracteres += contarCaracteres(descripcion)"
      ]
    },
    {
      "cell_type": "code",
      "execution_count": 8,
      "metadata": {},
      "outputs": [
        {
          "name": "stdout",
          "output_type": "stream",
          "text": [
            "Cantidad de caracteres: 985\n"
          ]
        }
      ],
      "source": [
        "print(f\"Cantidad de caracteres: {caracteres}\")"
      ]
    },
    {
      "cell_type": "markdown",
      "metadata": {},
      "source": [
        "### Stats"
      ]
    },
    {
      "cell_type": "code",
      "execution_count": null,
      "metadata": {},
      "outputs": [],
      "source": [
        "pip install beautifulsoup4 requests"
      ]
    },
    {
      "cell_type": "code",
      "execution_count": 9,
      "metadata": {},
      "outputs": [],
      "source": [
        "import requests\n",
        "from bs4 import BeautifulSoup"
      ]
    },
    {
      "cell_type": "code",
      "execution_count": 10,
      "metadata": {},
      "outputs": [
        {
          "name": "stdout",
          "output_type": "stream",
          "text": [
            "            Título                    Descripción\n",
            "0      Avg. Rating                          7.644\n",
            "1   No. of Ratings                         28,341\n",
            "2   Std. Deviation                           1.22\n",
            "3           Weight                        2.12/ 5\n",
            "4         Comments                          4,287\n",
            "5             Fans                          2,463\n",
            "6       Page Views                      1,784,082\n",
            "7     Overall Rank             157Historical Rank\n",
            "8      Family Rank              24Historical Rank\n",
            "9   All Time Plays                         99,954\n",
            "10      This Month                            146\n",
            "11             Own                         50,290\n",
            "12     Prev. Owned                          2,870\n",
            "13       For Trade      390Find For-Trade Matches\n",
            "14   Want In Trade  798Find Want-in-Trade Matches\n",
            "15        Wishlist                         10,419\n",
            "16       Has Parts                             13\n",
            "17      Want Parts                             10\n"
          ]
        }
      ],
      "source": [
        "url = 'https://boardgamegeek.com/boardgame/266524/parks/stats'\n",
        "\n",
        "# Abrir la página web\n",
        "driver.get(url)\n",
        "\n",
        "# Esperar a que la página cargue completamente\n",
        "time.sleep(3)  # Ajusta el tiempo de espera según sea necesario\n",
        "\n",
        "# Obtener el contenido de la página\n",
        "page_source = driver.page_source\n",
        "\n",
        "# Usar BeautifulSoup para analizar el contenido de la página\n",
        "soup = BeautifulSoup(page_source, 'html.parser')\n",
        "\n",
        "# Encontrar todos los elementos con la clase 'outline-item-title' y 'outline-item-description'\n",
        "titles = soup.find_all(class_='outline-item-title')\n",
        "descriptions = soup.find_all(class_='outline-item-description')\n",
        "\n",
        "# Preparar listas para almacenar los datos\n",
        "data = []\n",
        "\n",
        "# Extraer datos y agregarlos a la lista\n",
        "for title, description in zip(titles, descriptions):\n",
        "    title_text = title.get_text(strip=True)\n",
        "    description_text = description.get_text(strip=True)\n",
        "    data.append({'Título': title_text, 'Descripción': description_text})\n",
        "\n",
        "# Crear un DataFrame a partir de los datos\n",
        "df = pd.DataFrame(data)\n",
        "\n",
        "# Mostrar el DataFrame\n",
        "print(df)\n",
        "\n",
        "# Guardar el DataFrame en un archivo CSV (opcional)\n",
        "df.to_csv('../datos/estadisticas/boardgame_data.csv', index=False, encoding='utf-8')"
      ]
    },
    {
      "cell_type": "markdown",
      "metadata": {},
      "source": [
        "### Credits"
      ]
    },
    {
      "cell_type": "code",
      "execution_count": 19,
      "metadata": {
        "id": "O02Oci0Dr5kr"
      },
      "outputs": [],
      "source": [
        "driver.get('https://boardgamegeek.com/boardgame/266524/parks/credits')\n",
        "\n",
        "#Extraccion de datos del juego.\n",
        "datos_juego = []\n",
        "\n",
        "items = driver.find_elements(By.CLASS_NAME, 'outline-item')\n",
        "for item in items:\n",
        "    datos_juego.append(item.text)\n",
        "\n",
        "game_header = driver.find_elements(By.CLASS_NAME, 'gameplay-item-primary')\n",
        "for header in game_header:\n",
        "    datos_juego.append(header.text)\n",
        "\n",
        "for i in range(0,len(datos_juego)):\n",
        "    datos_juego[i] = datos_juego[i].replace('\\n', ' ')\n",
        "    datos_juego[i] = datos_juego[i].replace('Complexity Rating', '')\n",
        "\n",
        "datos = pd.DataFrame([{\n",
        "    'Nombre Primario': datos_juego[0].replace(\"Primary Name \", \"\"),\n",
        "    'Nombres Alternativos': datos_juego[1].replace(\"Alternate Names \", \"\"),\n",
        "    'Lanzamiento': datos_juego[2].replace(\"Year Released \", \"\"),\n",
        "    'Diseñador': datos_juego[3].replace(\"Designer \", \"\"),\n",
        "    'Publicado por': datos_juego[5].replace(\"Publisher \", \"\"),\n",
        "    'Editor': datos_juego[10].replace(\"Editor \", \"\"),\n",
        "    'Insert Designers': datos_juego[12].replace(\"Insert Designers\",\"\"),\n",
        "    'Categorias': datos_juego[13].replace(\"Categories \",\"\"),\n",
        "    'Mecanismos': datos_juego[14].replace(\"Mechanics \",\"\"),\n",
        "    'Familia': datos_juego[15].replace(\"Family \",\"\"),\n",
        "    'Jugadores': datos_juego[16].replace(\" Players\",\"\"),\n",
        "    'Tiempo de juego': datos_juego[17],\n",
        "    'Edad': datos_juego[18].replace(\"Age: \",\"\"),\n",
        "    'Complejidad': datos_juego[19].replace(\"Weight: \",\"\")\n",
        "}])"
      ]
    },
    {
      "cell_type": "code",
      "execution_count": 22,
      "metadata": {
        "id": "nrEZyB9SzFfm"
      },
      "outputs": [],
      "source": [
        "datos.to_csv('../datos/estadisticas/credits.csv', index=False, encoding='utf-8')"
      ]
    },
    {
      "cell_type": "markdown",
      "metadata": {},
      "source": [
        "### Ratings"
      ]
    },
    {
      "cell_type": "code",
      "execution_count": 18,
      "metadata": {},
      "outputs": [
        {
          "name": "stdout",
          "output_type": "stream",
          "text": [
            "Cargando página 1...\n",
            "Cargando página 2...\n",
            "Cargando página 3...\n",
            "Cargando página 4...\n",
            "Cargando página 5...\n",
            "Cargando página 6...\n",
            "Cargando página 7...\n",
            "Cargando página 8...\n",
            "Cargando página 9...\n",
            "Cargando página 10...\n",
            "Cargando página 11...\n",
            "Cargando página 12...\n",
            "Cargando página 13...\n",
            "Cargando página 14...\n",
            "Cargando página 15...\n",
            "Cargando página 16...\n",
            "Cargando página 17...\n",
            "Cargando página 18...\n",
            "Cargando página 19...\n",
            "Cargando página 20...\n",
            "Cargando página 21...\n",
            "Cargando página 22...\n",
            "Cargando página 23...\n",
            "Cargando página 24...\n",
            "Cargando página 25...\n",
            "Cargando página 26...\n",
            "Cargando página 27...\n",
            "Cargando página 28...\n",
            "Cargando página 29...\n",
            "Cargando página 30...\n",
            "Cargando página 31...\n",
            "Cargando página 32...\n",
            "Cargando página 33...\n",
            "Cargando página 34...\n",
            "Cargando página 35...\n",
            "Cargando página 36...\n",
            "Cargando página 37...\n",
            "Cargando página 38...\n",
            "Cargando página 39...\n",
            "Cargando página 40...\n",
            "Cargando página 41...\n",
            "Cargando página 42...\n",
            "Cargando página 43...\n",
            "Cargando página 44...\n",
            "Cargando página 45...\n",
            "Cargando página 46...\n",
            "  puntaje                                             reseña\n",
            "0       9  Friend game\\n\\nCouples game\\n\\n3 player game*\\...\n",
            "1      10  Lots of fun. Enjoy the journey and battling fo...\n",
            "2      10  Great game. Easy to learn and easy to play. Be...\n",
            "3       7  + Nightfall expansion\\nveudu à Audrey Boucher ...\n",
            "4     7.2  Some of the best production I've seen in a gam...\n"
          ]
        }
      ],
      "source": [
        "base_url = \"https://boardgamegeek.com/boardgame/266524/parks/ratings\"\n",
        "total_needed = 500  # Cambia esto según cuántas reseñas quieres\n",
        "collected = 0\n",
        "pageid = 1\n",
        "\n",
        "banderas_validas = [\n",
        "    \"United States Flag\",\n",
        "    \"Canada Flag\",\n",
        "    \"United Kingdom Flag\"\n",
        "]\n",
        "\n",
        "resultados = []\n",
        "\n",
        "while collected < total_needed:\n",
        "    url = f\"{base_url}?pageid={pageid}&comment=1\" if pageid > 1 else base_url\n",
        "    print(f'Cargando página {pageid}...')\n",
        "    driver.get(url)\n",
        "    time.sleep(3)  # Ajusta según sea necesario\n",
        "\n",
        "    # Encuentra todos los bloques de comentarios\n",
        "    items = driver.find_elements(By.CSS_SELECTOR, 'li.summary-item.summary-rating-item')\n",
        "\n",
        "    found_on_page = 0\n",
        "    for item in items:\n",
        "        try:\n",
        "            # --- Comentario ---\n",
        "            comentario_tag = item.find_element(By.CSS_SELECTOR, 'p.mb-0.ng-binding.ng-scope')\n",
        "            comentario_texto = comentario_tag.get_attribute('innerText').strip()\n",
        "            palabras = comentario_texto.split()\n",
        "            if len(palabras) <= 10:\n",
        "                continue\n",
        "\n",
        "            # --- Bandera (país) ---\n",
        "            try:\n",
        "                bandera_img = item.find_element(By.CSS_SELECTOR, '.comment-header-location-flag img')\n",
        "                bandera_alt = bandera_img.get_attribute('alt')\n",
        "            except:\n",
        "                bandera_alt = None\n",
        "\n",
        "            if bandera_alt not in banderas_validas:\n",
        "                continue\n",
        "\n",
        "            # --- Rating ---\n",
        "            try:\n",
        "                rating_tag = item.find_element(By.CSS_SELECTOR, '.summary-item-callout .rating-angular')\n",
        "                rating = rating_tag.text.strip()\n",
        "            except:\n",
        "                rating = None\n",
        "\n",
        "            resultados.append({\n",
        "                'puntaje': rating,\n",
        "                'reseña': comentario_texto\n",
        "            })\n",
        "            collected += 1\n",
        "            found_on_page += 1\n",
        "\n",
        "            if collected >= total_needed:\n",
        "                break\n",
        "        except Exception as err:\n",
        "            continue\n",
        "\n",
        "    if found_on_page == 0:\n",
        "        print(\"No se encontraron comentarios válidos en esta página, deteniendo la búsqueda.\")\n",
        "        break\n",
        "\n",
        "    pageid += 1\n",
        "\n",
        "# Crea el DataFrame\n",
        "df = pd.DataFrame(resultados)\n",
        "print(df.head())"
      ]
    },
    {
      "cell_type": "code",
      "execution_count": null,
      "metadata": {},
      "outputs": [],
      "source": [
        "df.to_csv('../datos/estadisticas/reseñas_parks.csv', index = False)"
      ]
    },
    {
      "cell_type": "markdown",
      "metadata": {
        "id": "o4hf81Abhakt"
      },
      "source": [
        "## Extracción de foros:"
      ]
    },
    {
      "cell_type": "markdown",
      "metadata": {
        "id": "XADE5kX0pZrJ"
      },
      "source": [
        "### Variants"
      ]
    },
    {
      "cell_type": "code",
      "execution_count": 11,
      "metadata": {
        "id": "tIiktWishdw2"
      },
      "outputs": [],
      "source": [
        "#URL de los foros de Variants.\n",
        "url_foro = \"https://boardgamegeek.com/boardgame/266524/parks/forums/69\"\n",
        "driver.get(url_foro)\n",
        "time.sleep(3)\n",
        "\n",
        "hilos = driver.find_elements(By.CSS_SELECTOR, \"a[href^='/thread/']\")  # todos los <a> que empiezan con /thread/\n",
        "\n",
        "links_hilos = []\n",
        "for hilo in hilos:\n",
        "    link = hilo.get_attribute('href')\n",
        "    if link:  # asegurar que no sea None\n",
        "        link_completo = \"https://boardgamegeek.com\" + link if link.startswith(\"/thread/\") else link\n",
        "        links_hilos.append(link_completo)\n",
        "\n",
        "#Eliminar los links repetidos\n",
        "links_unicos = list(set(links_hilos))"
      ]
    },
    {
      "cell_type": "code",
      "execution_count": 12,
      "metadata": {
        "id": "imKLyaMvo99F"
      },
      "outputs": [],
      "source": [
        "textos_foros_variants = []\n",
        "\n",
        "for link in links_unicos:\n",
        "    driver.get(link)\n",
        "    time.sleep(2)\n",
        "\n",
        "    posts = driver.find_elements(By.TAG_NAME, \"gg-markup-safe-html\")\n",
        "\n",
        "    for post in posts:\n",
        "        texto = post.text.strip()\n",
        "        if texto:\n",
        "            textos_foros_variants.append(texto)\n",
        "\n",
        "textos_foros_variants = list(set(textos_foros_variants))"
      ]
    },
    {
      "cell_type": "code",
      "execution_count": 26,
      "metadata": {
        "id": "xfMjiuCQsIBr"
      },
      "outputs": [],
      "source": [
        "with open('../datos/informacion/texto_foros_variants.txt', 'w', encoding='utf-8') as archivo:\n",
        "    for linea in textos_foros_variants:\n",
        "        archivo.write(linea + '\\n')  # Escribir cada string en una nueva línea"
      ]
    },
    {
      "cell_type": "code",
      "execution_count": 13,
      "metadata": {},
      "outputs": [],
      "source": [
        "for texto in textos_foros_variants:\n",
        "    caracteres += contarCaracteres(texto)"
      ]
    },
    {
      "cell_type": "code",
      "execution_count": 14,
      "metadata": {},
      "outputs": [
        {
          "name": "stdout",
          "output_type": "stream",
          "text": [
            "Cantidad de caracteres: 139244\n"
          ]
        }
      ],
      "source": [
        "print(f\"Cantidad de caracteres: {caracteres}\")"
      ]
    },
    {
      "cell_type": "markdown",
      "metadata": {
        "id": "VkItrPSPpcY3"
      },
      "source": [
        "### Strategy"
      ]
    },
    {
      "cell_type": "code",
      "execution_count": 15,
      "metadata": {
        "id": "yC_hpvgXpi5A"
      },
      "outputs": [],
      "source": [
        "#URL de los foros de Strategy.\n",
        "url_foro = \"https://boardgamegeek.com/boardgame/266524/parks/forums/67\"\n",
        "driver.get(url_foro)\n",
        "time.sleep(3)\n",
        "\n",
        "hilos = driver.find_elements(By.CSS_SELECTOR, \"a[href^='/thread/']\")  # todos los <a> que empiezan con /thread/\n",
        "\n",
        "links_hilos = []\n",
        "for hilo in hilos:\n",
        "    link = hilo.get_attribute('href')\n",
        "    if link:  # asegurar que no sea None\n",
        "        link_completo = \"https://boardgamegeek.com\" + link if link.startswith(\"/thread/\") else link\n",
        "        links_hilos.append(link_completo)\n",
        "\n",
        "#Eliminar los links repetidos\n",
        "links_unicos = list(set(links_hilos))"
      ]
    },
    {
      "cell_type": "code",
      "execution_count": 16,
      "metadata": {
        "id": "zNzfn1LKprpt"
      },
      "outputs": [],
      "source": [
        "textos_foros_strategy = []\n",
        "\n",
        "for link in links_unicos:\n",
        "    driver.get(link)\n",
        "    time.sleep(2)\n",
        "\n",
        "    posts = driver.find_elements(By.TAG_NAME, \"gg-markup-safe-html\")\n",
        "\n",
        "    for post in posts:\n",
        "        texto = post.text.strip()\n",
        "        if texto:\n",
        "            textos_foros_strategy.append(texto)\n",
        "\n",
        "textos_foros_strategy = list(set(textos_foros_strategy))"
      ]
    },
    {
      "cell_type": "code",
      "execution_count": 29,
      "metadata": {
        "id": "xXlH49AEr_Rh"
      },
      "outputs": [],
      "source": [
        "with open('../datos/informacion/texto_foros_strategy.txt', 'w', encoding='utf-8') as archivo:\n",
        "    for linea in textos_foros_strategy:\n",
        "        archivo.write(linea + '\\n')  # Escribir cada string en una nueva línea"
      ]
    },
    {
      "cell_type": "code",
      "execution_count": 17,
      "metadata": {},
      "outputs": [],
      "source": [
        "for texto in textos_foros_strategy:\n",
        "    caracteres += contarCaracteres(texto)"
      ]
    },
    {
      "cell_type": "code",
      "execution_count": 18,
      "metadata": {},
      "outputs": [
        {
          "name": "stdout",
          "output_type": "stream",
          "text": [
            "Cantidad de caracteres: 157899\n"
          ]
        }
      ],
      "source": [
        "print(f\"Cantidad de caracteres: {caracteres}\")"
      ]
    },
    {
      "cell_type": "markdown",
      "metadata": {
        "id": "Pv5kHj27rCO0"
      },
      "source": [
        "### News"
      ]
    },
    {
      "cell_type": "code",
      "execution_count": 19,
      "metadata": {
        "id": "aZJGSyioqpZK"
      },
      "outputs": [],
      "source": [
        "#URL de los foros de News.\n",
        "url_foro = \"https://boardgamegeek.com/boardgame/266524/parks/forums/68\"\n",
        "driver.get(url_foro)\n",
        "time.sleep(3)\n",
        "\n",
        "hilos = driver.find_elements(By.CSS_SELECTOR, \"a[href^='/thread/']\")  # todos los <a> que empiezan con /thread/\n",
        "\n",
        "links_hilos = []\n",
        "for hilo in hilos:\n",
        "    link = hilo.get_attribute('href')\n",
        "    if link:  # asegurar que no sea None\n",
        "        link_completo = \"https://boardgamegeek.com\" + link if link.startswith(\"/thread/\") else link\n",
        "        links_hilos.append(link_completo)\n",
        "\n",
        "#Eliminar los links repetidos\n",
        "links_unicos = list(set(links_hilos))"
      ]
    },
    {
      "cell_type": "code",
      "execution_count": 20,
      "metadata": {
        "id": "ksdNVQ4yq9NZ"
      },
      "outputs": [],
      "source": [
        "textos_foros_news = []\n",
        "\n",
        "for link in links_unicos:\n",
        "    driver.get(link)\n",
        "    time.sleep(2)\n",
        "\n",
        "    posts = driver.find_elements(By.TAG_NAME, \"gg-markup-safe-html\")\n",
        "\n",
        "    for post in posts:\n",
        "        texto = post.text.strip()\n",
        "        if texto:\n",
        "            textos_foros_news.append(texto)\n",
        "\n",
        "textos_foros_news = list(set(textos_foros_news))"
      ]
    },
    {
      "cell_type": "code",
      "execution_count": 32,
      "metadata": {
        "id": "UgDkmOo7ryNa"
      },
      "outputs": [],
      "source": [
        "with open('../datos/informacion/texto_foros_news.txt', 'w', encoding='utf-8') as archivo:\n",
        "    for linea in textos_foros_news:\n",
        "        archivo.write(linea + '\\n')  # Escribir cada string en una nueva línea"
      ]
    },
    {
      "cell_type": "code",
      "execution_count": 21,
      "metadata": {},
      "outputs": [],
      "source": [
        "for texto in textos_foros_news:\n",
        "    caracteres += contarCaracteres(texto)"
      ]
    },
    {
      "cell_type": "code",
      "execution_count": 22,
      "metadata": {},
      "outputs": [
        {
          "name": "stdout",
          "output_type": "stream",
          "text": [
            "Cantidad de caracteres: 175422\n"
          ]
        }
      ],
      "source": [
        "print(f\"Cantidad de caracteres: {caracteres}\")"
      ]
    },
    {
      "cell_type": "markdown",
      "metadata": {},
      "source": [
        "## Extracción de la página Misutmeeple:"
      ]
    },
    {
      "cell_type": "code",
      "execution_count": 24,
      "metadata": {},
      "outputs": [
        {
          "name": "stdout",
          "output_type": "stream",
          "text": [
            "Página obtenida con éxito\n"
          ]
        }
      ],
      "source": [
        "# Url de la página de reseña de PARKS.\n",
        "url = 'https://misutmeeple.com/2021/12/resena-parks/'\n",
        "\n",
        "# Enviar una solicitud GET\n",
        "response = requests.get(url)\n",
        "\n",
        "# Verificar si la solicitud fue exitosa\n",
        "if response.status_code == 200:\n",
        "    html_content = response.text\n",
        "    print(\"Página obtenida con éxito\")\n",
        "else:\n",
        "    print(f\"Error {response.status_code}\")"
      ]
    },
    {
      "cell_type": "code",
      "execution_count": 25,
      "metadata": {},
      "outputs": [],
      "source": [
        "# Crear el objeto BeautifulSoup\n",
        "soup = BeautifulSoup(html_content, \"html.parser\")"
      ]
    },
    {
      "cell_type": "code",
      "execution_count": 26,
      "metadata": {},
      "outputs": [],
      "source": [
        "secciones = {}\n",
        "\n",
        "# Recorremos cada sección marcada por <h2>\n",
        "for h2 in soup.find_all('h2'):\n",
        "    titulo = h2.get_text(strip=True)\n",
        "    contenido = []\n",
        "\n",
        "    # Recorremos los elementos siguientes hasta otro <h2>\n",
        "    for sibling in h2.find_next_siblings():\n",
        "        if sibling.name == 'h2':\n",
        "            break\n",
        "\n",
        "        if sibling.name == 'p':\n",
        "            contenido.append(sibling.get_text(strip=True))\n",
        "\n",
        "        elif sibling.name == 'ul':\n",
        "            # Agregar todos los <li> dentro del <ul>\n",
        "            for li in sibling.find_all('li'):\n",
        "                contenido.append(f\"- {li.get_text(strip=True)}\")\n",
        "\n",
        "        elif sibling.name == 'ol':\n",
        "            # Agregar los <li> en listas ordenadas también\n",
        "            for idx, li in enumerate(sibling.find_all('li'), start=1):\n",
        "                contenido.append(f\"{idx}. {li.get_text(strip=True)}\")\n",
        "\n",
        "    # Guardar el texto agrupado en el diccionario\n",
        "    secciones[titulo] = \"\\n\".join(contenido)"
      ]
    },
    {
      "cell_type": "code",
      "execution_count": 27,
      "metadata": {},
      "outputs": [],
      "source": [
        "secciones = dict(list(secciones.items())[:4])"
      ]
    },
    {
      "cell_type": "code",
      "execution_count": 28,
      "metadata": {},
      "outputs": [
        {
          "data": {
            "text/plain": [
              "dict_keys(['Introducción', 'Contenido', 'Mecánica', 'Opinión Personal'])"
            ]
          },
          "execution_count": 28,
          "metadata": {},
          "output_type": "execute_result"
        }
      ],
      "source": [
        "secciones.keys()"
      ]
    },
    {
      "cell_type": "code",
      "execution_count": null,
      "metadata": {},
      "outputs": [],
      "source": [
        "with open('../datos/informacion/texto_misutmeeple_introduccion.txt', 'w', encoding='utf-8') as archivo:\n",
        "    archivo.write(secciones['Introducción'])  "
      ]
    },
    {
      "cell_type": "code",
      "execution_count": null,
      "metadata": {},
      "outputs": [],
      "source": [
        "with open('../datos/informacion/texto_misutmeeple_contenido.txt', 'w', encoding='utf-8') as archivo:\n",
        "    archivo.write(secciones['Contenido'])  "
      ]
    },
    {
      "cell_type": "code",
      "execution_count": null,
      "metadata": {},
      "outputs": [],
      "source": [
        "with open('../datos/informacion/texto_misutmeeple_mecanica.txt', 'w', encoding='utf-8') as archivo:\n",
        "    archivo.write(secciones['Mecánica'])  "
      ]
    },
    {
      "cell_type": "code",
      "execution_count": null,
      "metadata": {},
      "outputs": [],
      "source": [
        "with open('../datos/informacion/texto_misutmeeple_opinion.txt', 'w', encoding='utf-8') as archivo:\n",
        "    archivo.write(secciones['Opinión Personal'])  "
      ]
    },
    {
      "cell_type": "code",
      "execution_count": 30,
      "metadata": {},
      "outputs": [],
      "source": [
        "for key in ['Introducción','Contenido','Mecánica','Opinión Personal']:\n",
        "    texto = secciones[key]\n",
        "    caracteres += contarCaracteres(texto)"
      ]
    },
    {
      "cell_type": "code",
      "execution_count": 32,
      "metadata": {},
      "outputs": [
        {
          "name": "stdout",
          "output_type": "stream",
          "text": [
            "Cantidad de caracteres: 193648\n"
          ]
        }
      ],
      "source": [
        "print(f\"Cantidad de caracteres: {caracteres}\")"
      ]
    }
  ],
  "metadata": {
    "colab": {
      "provenance": []
    },
    "kernelspec": {
      "display_name": "base",
      "language": "python",
      "name": "python3"
    },
    "language_info": {
      "codemirror_mode": {
        "name": "ipython",
        "version": 3
      },
      "file_extension": ".py",
      "mimetype": "text/x-python",
      "name": "python",
      "nbconvert_exporter": "python",
      "pygments_lexer": "ipython3",
      "version": "3.12.4"
    }
  },
  "nbformat": 4,
  "nbformat_minor": 0
}
